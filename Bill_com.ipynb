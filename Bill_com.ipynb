{
  "nbformat": 4,
  "nbformat_minor": 0,
  "metadata": {
    "colab": {
      "provenance": [],
      "include_colab_link": true
    },
    "kernelspec": {
      "name": "python3",
      "display_name": "Python 3"
    },
    "language_info": {
      "name": "python"
    },
    "gpuClass": "standard"
  },
  "cells": [
    {
      "cell_type": "markdown",
      "metadata": {
        "id": "view-in-github",
        "colab_type": "text"
      },
      "source": [
        "<a href=\"https://colab.research.google.com/github/sqhang/Gimmereceipt/blob/main/Bill_com.ipynb\" target=\"_parent\"><img src=\"https://colab.research.google.com/assets/colab-badge.svg\" alt=\"Open In Colab\"/></a>"
      ]
    },
    {
      "cell_type": "markdown",
      "source": [
        "# Bill.com Challenge"
      ],
      "metadata": {
        "id": "fT85oPUvHf0x"
      }
    },
    {
      "cell_type": "code",
      "source": [
        "!pip install paddleocr\n",
        "!pip install paddlepaddle"
      ],
      "metadata": {
        "id": "cZl2f5JhakTJ"
      },
      "execution_count": null,
      "outputs": []
    },
    {
      "cell_type": "code",
      "source": [
        "from google.colab import drive\n",
        "drive.mount('/content/drive')"
      ],
      "metadata": {
        "colab": {
          "base_uri": "https://localhost:8080/",
          "height": 0
        },
        "id": "wGG-WeZf7OIq",
        "outputId": "33112c52-dc7b-408e-94f3-0010b2db30a7"
      },
      "execution_count": 170,
      "outputs": [
        {
          "output_type": "stream",
          "name": "stdout",
          "text": [
            "Drive already mounted at /content/drive; to attempt to forcibly remount, call drive.mount(\"/content/drive\", force_remount=True).\n"
          ]
        }
      ]
    },
    {
      "cell_type": "markdown",
      "source": [
        "# Generating OCR for images that does not come with them"
      ],
      "metadata": {
        "id": "GMP1Gy5n33J4"
      }
    },
    {
      "cell_type": "code",
      "source": [
        "from paddleocr import PaddleOCR,draw_ocr\n",
        "\n",
        "ocr = PaddleOCR(use_angle_cls=True, lang='en') # need to run only once to download and load model into memory\n",
        "\n",
        "def generate_ocr_from_image(image_path):\n",
        "  result = ocr.ocr(image_path, cls=True)\n",
        "  txt_array = [line[1][0] for line in result[0]]\n",
        "  txt_concat = \" \".join(txt_array)\n",
        "  return txt_concat"
      ],
      "metadata": {
        "id": "1U0t4XD56ygv"
      },
      "execution_count": null,
      "outputs": []
    },
    {
      "cell_type": "code",
      "source": [
        "# Testing ocr on an image\n",
        "ocr_text = generate_ocr_from_image('/content/drive/MyDrive/Datathon/img-20230128T024845Z-001/img/00d0100894168.jpg')"
      ],
      "metadata": {
        "colab": {
          "base_uri": "https://localhost:8080/",
          "height": 0
        },
        "id": "v_ew8R5a61Uk",
        "outputId": "ac21b9ce-2dfa-49e7-ae4d-3caee709342b"
      },
      "execution_count": 177,
      "outputs": [
        {
          "output_type": "stream",
          "name": "stdout",
          "text": [
            "[2023/01/29 05:11:21] ppocr DEBUG: dt_boxes num : 77, elapse : 0.8403098583221436\n",
            "[2023/01/29 05:11:21] ppocr DEBUG: cls num  : 77, elapse : 0.6223695278167725\n",
            "[2023/01/29 05:11:28] ppocr DEBUG: rec_res num  : 77, elapse : 6.7411582469940186\n"
          ]
        }
      ]
    },
    {
      "cell_type": "code",
      "source": [
        "import os\n",
        "import pandas as pd\n",
        "\n",
        "# Helper function to read content from ocr.csv file\n",
        "def read_ocr_2_para(filepath, colnames = ['x1', 'y1', 'x2', 'y2', 'x3', 'y3', 'x4', 'y4', 'text1', 'text2', 'text3']):\n",
        "    df_test1 = pd.read_csv(filepath, names=colnames)\n",
        "\n",
        "    df_test1['Text_merge'] = df_test1[df_test1.columns[8:]].apply(\n",
        "        lambda x: ','.join(x.dropna().astype(str)),\n",
        "        axis=1)\n",
        "    \n",
        "    out = ' '.join(df_test1['Text_merge'])\n",
        "\n",
        "    return out\n",
        "\n",
        "# Get all ocr files and cache it in a local dictionary\n",
        "def get_all_ocr(img_path, ocr_path):\n",
        "  all_ocr = {}\n",
        "\n",
        "  all_img_paths = os.listdir(img_path)\n",
        "  all_ocr_paths = os.listdir(ocr_path)\n",
        "  for img in tqdm(all_img_paths):\n",
        "    img_id = os.path.splitext(img)[0]\n",
        "    img_corred_ocr_name = img_id + '.csv'\n",
        "    ocr_file_path = ocr_path + '/' + img_corred_ocr_name\n",
        "    img_file_path = img_path + '/' + img\n",
        "    if img_corred_ocr_name in all_ocr_paths:\n",
        "      try:\n",
        "        all_ocr[img_id] = read_ocr_2_para(ocr_file_path)\n",
        "      except:\n",
        "        all_ocr[img_id] = generate_ocr_from_image(img_file_path)\n",
        "    else:\n",
        "      all_ocr[img_id] = generate_ocr_from_image(img_file_path)\n",
        "  return all_ocr"
      ],
      "metadata": {
        "id": "lSCCznfq1eSG"
      },
      "execution_count": 178,
      "outputs": []
    },
    {
      "cell_type": "code",
      "source": [
        "all_ocr = get_all_ocr('/content/drive/MyDrive/Datathon/img-20230128T024845Z-001/img/', '/content/drive/MyDrive/Datathon/ocr-20230128T024910Z-001/ocr/')"
      ],
      "metadata": {
        "id": "LunIIV4G7Tjo"
      },
      "execution_count": null,
      "outputs": []
    },
    {
      "cell_type": "markdown",
      "source": [
        "## Split ocrs into training set and validation set"
      ],
      "metadata": {
        "id": "-PBzZEFT-22C"
      }
    },
    {
      "cell_type": "code",
      "source": [
        "train_transactions_csv = pd.read_csv('/content/drive/MyDrive/Datathon/Users.csv')\n",
        "test_transactions_csv = pd.read_csv('/content/drive/MyDrive/Datathon/test_transactions.csv')"
      ],
      "metadata": {
        "id": "5NFahlsXOVDB"
      },
      "execution_count": 183,
      "outputs": []
    },
    {
      "cell_type": "code",
      "source": [
        "test_doc_id = []\n",
        "for i in range(len(test_transactions_csv)):\n",
        "  user_row = test_transactions_csv.iloc[i]\n",
        "  documentid = user_row['documentid']\n",
        "  test_doc_id.append(documentid)"
      ],
      "metadata": {
        "id": "HPBLpOgzO5ay"
      },
      "execution_count": 184,
      "outputs": []
    },
    {
      "cell_type": "code",
      "source": [
        "train_doc_id = []\n",
        "for i in range(len(train_transactions_csv)):\n",
        "  user_row = train_transactions_csv.iloc[i]\n",
        "  documentid = user_row['documentid']\n",
        "  train_doc_id.append(documentid)"
      ],
      "metadata": {
        "id": "0T9ItBz6V7jD"
      },
      "execution_count": 185,
      "outputs": []
    },
    {
      "cell_type": "code",
      "source": [
        "train_data = {}\n",
        "test_data = {}\n",
        "\n",
        "for documentid in test_doc_id:\n",
        "  test_data[documentid] = all_ocr[documentid]\n",
        "\n",
        "for documentid in train_doc_id:\n",
        "  train_data[documentid] = all_ocr[documentid]"
      ],
      "metadata": {
        "id": "wlTBixmMPOkJ"
      },
      "execution_count": 187,
      "outputs": []
    },
    {
      "cell_type": "markdown",
      "source": [
        "## Store ocrs as a json object for later reuse"
      ],
      "metadata": {
        "id": "ZuT1BoKX-r2e"
      }
    },
    {
      "cell_type": "code",
      "source": [
        "import json\n",
        "\n",
        "with open('test_data.json', 'w') as fp:\n",
        "    json.dump(test_data, fp)\n",
        "\n",
        "with open('train_data.json', 'w') as fp:\n",
        "    json.dump(train_data, fp)"
      ],
      "metadata": {
        "id": "GLt74-SCQmb8"
      },
      "execution_count": 188,
      "outputs": []
    },
    {
      "cell_type": "markdown",
      "source": [
        "## Get a glimpse on what user.csv looks like"
      ],
      "metadata": {
        "id": "5wqrdtC98mjs"
      }
    },
    {
      "cell_type": "code",
      "source": [
        "users = pd.read_csv(\"/content/drive/MyDrive/Datathon/Users.csv\")\n",
        "users"
      ],
      "metadata": {
        "id": "-W5vhCa74B2B"
      },
      "execution_count": null,
      "outputs": []
    },
    {
      "cell_type": "markdown",
      "source": [
        "# Feature Engineering\n",
        "Design four distinctive similarity measures (date, transaction amount, vendor name, vendor address) between the ocr text output and a row of user transaction data."
      ],
      "metadata": {
        "id": "zxhCw05-S8wn"
      }
    },
    {
      "cell_type": "markdown",
      "source": [
        "## Date"
      ],
      "metadata": {
        "id": "hDuOAEr7-FrF"
      }
    },
    {
      "cell_type": "code",
      "source": [
        "from dateutil.parser import parse\n",
        "\n",
        "# helper function to parse string into a datetime object\n",
        "def parse_date(string, fuzzy=False):\n",
        "    try:\n",
        "        date = parse(string, fuzzy = fuzzy)\n",
        "        return date\n",
        "\n",
        "    except ValueError:\n",
        "        return None\n",
        "    \n",
        "    except OverflowError:\n",
        "        return None\n",
        "\n",
        "# list all the potential datetime objects within a ocr text\n",
        "def list_potential_date(para):\n",
        "    date_list = []\n",
        "    token_list = para.split(\" \")\n",
        "    # print(len(token_list))\n",
        "   \n",
        "    for token in token_list:\n",
        "        date = parse_date(token)\n",
        "        if date != None:\n",
        "            if ((\"/\" in token) or ('-' in token)) and token[0] != '-':\n",
        "                date_list.append(date)\n",
        "\n",
        "    if len(date_list) == 0:\n",
        "        for i in range(len(token_list) - 2):\n",
        "            cur_string = token_list[i] + \" \" + token_list[i+1] + \" \" + token_list[i+2]\n",
        "            date = parse_date(cur_string, True)\n",
        "            if date != None:\n",
        "                date_list.append(date)\n",
        "    if (len(date_list) == 0):\n",
        "        print(token_list)\n",
        "        print(\"Still not found!\")\n",
        "    return date_list\n"
      ],
      "metadata": {
        "id": "LHALZj-cGs7K"
      },
      "execution_count": 189,
      "outputs": []
    },
    {
      "cell_type": "code",
      "source": [
        "# compare two datetime objects\n",
        "def compareDates(date1, date2):\n",
        "    if date1.year == date2.year and date1.month == date2.month and date1.day == date2.day:\n",
        "        return True\n",
        "    if date1.year == date2.year and date1.month == date2.day and date1.day == date2.month:\n",
        "        return True\n",
        "    return False\n",
        "\n",
        "def eval_date(date_string, datetime_list):\n",
        "    date = parse_date(date_string)\n",
        "    if date == None:\n",
        "        return 0\n",
        "    else:\n",
        "        for datetime in datetime_list:\n",
        "            if compareDates(date, datetime):\n",
        "                return 1\n",
        "        return 0"
      ],
      "metadata": {
        "id": "A9qE3xaq39XL"
      },
      "execution_count": 190,
      "outputs": []
    },
    {
      "cell_type": "markdown",
      "source": [
        "## Amount"
      ],
      "metadata": {
        "id": "N1NhpHE7ALfj"
      }
    },
    {
      "cell_type": "code",
      "source": [
        "import re\n",
        "\n",
        "def eval_amount(to_find, source):\n",
        "  if str(to_find) in source:\n",
        "  #if re.search(to_find, source) != None:\n",
        "    return 1\n",
        "  else:\n",
        "    return 0"
      ],
      "metadata": {
        "id": "aEC5MAicAQhU"
      },
      "execution_count": 191,
      "outputs": []
    },
    {
      "cell_type": "markdown",
      "source": [
        "## Vendor Name"
      ],
      "metadata": {
        "id": "Vjn88ZI7ANyX"
      }
    },
    {
      "cell_type": "code",
      "source": [
        "def eval_vendname(to_find, source):\n",
        "  to_find = to_find.lower()\n",
        "  source = source.lower()\n",
        "\n",
        "  tokens = to_find.split()\n",
        "  score = 0\n",
        "  for token in tokens:\n",
        "    if token in source:\n",
        "      score += 1\n",
        "  return score / len(tokens)"
      ],
      "metadata": {
        "id": "zPlYN-GH9RSW"
      },
      "execution_count": null,
      "outputs": []
    },
    {
      "cell_type": "markdown",
      "source": [
        "## Vendor Address"
      ],
      "metadata": {
        "id": "az20vnzbAUSM"
      }
    },
    {
      "cell_type": "code",
      "source": [
        "def eval_address_score(to_find, source):\n",
        "  to_find = to_find.lower()\n",
        "  source = source.lower()\n",
        "\n",
        "  tokens = to_find.split()\n",
        "  score = 0\n",
        "  for token in tokens:\n",
        "    if token in source:\n",
        "      score += 1\n",
        "  return score / len(tokens)"
      ],
      "metadata": {
        "id": "wIlaUngXAWXe"
      },
      "execution_count": null,
      "outputs": []
    },
    {
      "cell_type": "code",
      "source": [
        "# load train\n",
        "train_f_large = open('/content/drive/MyDrive/Datathon/train_data_large.json')\n",
        "test_f_large = open('/content/drive/MyDrive/Datathon/test_data.json')\n",
        "# returns JSON object as \n",
        "# a dictionary\n",
        "train_ocr_large = json.load(train_f_large)\n",
        "test_ocr = json.load(test_f_large)\n",
        "print(train_ocr_large)\n",
        "print(len(train_ocr_large))"
      ],
      "metadata": {
        "id": "Ry-Pt_KpS6vQ"
      },
      "execution_count": null,
      "outputs": []
    },
    {
      "cell_type": "code",
      "source": [
        "# load train small\n",
        "train_f_small = open('/content/drive/MyDrive/Datathon/train_data_small.json')\n",
        "  \n",
        "# returns JSON object as \n",
        "# a dictionary\n",
        "train_ocr_small = json.load(train_f_small)\n",
        "print(train_ocr_small)\n",
        "print(len(train_ocr_small))"
      ],
      "metadata": {
        "id": "jKTNKyQXUcbp"
      },
      "execution_count": null,
      "outputs": []
    },
    {
      "cell_type": "code",
      "source": [
        "data = []\n",
        "for k, v in train_ocr_small.items():\n",
        "    row = {}\n",
        "    row[\"documentid_ocr\"] = k\n",
        "    row[\"ocr_text\"] = v\n",
        "    data.append(row)\n",
        "\n",
        "# data = [{k: v} for k,v in train_ocr_small.items()]\n",
        "ocr_small_df = pd.DataFrame(data)"
      ],
      "metadata": {
        "id": "oC8r-97TZ7w7"
      },
      "execution_count": 28,
      "outputs": []
    },
    {
      "cell_type": "code",
      "source": [
        "train_user_df = pd.read_csv(\"/content/drive/MyDrive/Datathon/Users.csv\")\n",
        "train_small_df = ocr_small_df.merge(train_user_df, how='cross')\n",
        "train_small_df[\"truth\"] = (train_small_df[\"documentid_ocr\"] == train_small_df[\"documentid\"]) \n",
        "train_small_df[\"truth\"] = train_small_df[\"truth\"].astype(int)"
      ],
      "metadata": {
        "id": "qhEftWBybUfL"
      },
      "execution_count": 193,
      "outputs": []
    },
    {
      "cell_type": "markdown",
      "source": [
        "## Prepare training data points"
      ],
      "metadata": {
        "id": "vb17HYH-Bhra"
      }
    },
    {
      "cell_type": "code",
      "source": [
        "train_small_df[\"eval_amount\"] = train_small_df.apply(lambda row: eval_amount(row[\"amount\"], row[\"ocr_text\"]), axis = 1)\n",
        "train_small_df[\"eval_amount\"].sum()"
      ],
      "metadata": {
        "colab": {
          "base_uri": "https://localhost:8080/",
          "height": 0
        },
        "id": "_LtU0yt9eZug",
        "outputId": "2721a8e3-1a30-4fea-dd55-f6b7b827d683"
      },
      "execution_count": 194,
      "outputs": [
        {
          "output_type": "execute_result",
          "data": {
            "text/plain": [
              "6338"
            ]
          },
          "metadata": {},
          "execution_count": 194
        }
      ]
    },
    {
      "cell_type": "code",
      "source": [
        "train_small_df[\"eval_vendname\"] = train_small_df.apply(lambda row: eval_vendname(row[\"vendor_name\"], row[\"ocr_text\"]), axis = 1)\n",
        "train_small_df[\"eval_vendname\"].sum()"
      ],
      "metadata": {
        "colab": {
          "base_uri": "https://localhost:8080/",
          "height": 0
        },
        "id": "ddQ093SHf4U7",
        "outputId": "ad1f64eb-5598-463b-e25d-bc6ad30676b3"
      },
      "execution_count": 195,
      "outputs": [
        {
          "output_type": "execute_result",
          "data": {
            "text/plain": [
              "48761.44365079365"
            ]
          },
          "metadata": {},
          "execution_count": 195
        }
      ]
    },
    {
      "cell_type": "code",
      "source": [
        "train_small_df[\"eval_address\"] = train_small_df.apply(lambda row: eval_address_score(row[\"vendor_address\"], row[\"ocr_text\"]), axis = 1)\n",
        "train_small_df[\"eval_address\"].sum()"
      ],
      "metadata": {
        "colab": {
          "base_uri": "https://localhost:8080/",
          "height": 0
        },
        "id": "HOckmBRQgLNQ",
        "outputId": "d24a0881-f677-4190-cd93-ae8f5226faa3"
      },
      "execution_count": 196,
      "outputs": [
        {
          "output_type": "execute_result",
          "data": {
            "text/plain": [
              "43278.69281644568"
            ]
          },
          "metadata": {},
          "execution_count": 196
        }
      ]
    },
    {
      "cell_type": "code",
      "source": [
        "datetime_dict = {}\n",
        "for docID, ocrTxt in train_ocr_small.items():\n",
        "    datetime_dict[docID] = list_potential_date(ocrTxt)\n",
        "\n",
        "len(datetime_dict)"
      ],
      "metadata": {
        "colab": {
          "base_uri": "https://localhost:8080/",
          "height": 0
        },
        "id": "NuZgre9jgczH",
        "outputId": "62b4acac-4d98-457b-a2b4-e7f30af54cad"
      },
      "execution_count": 197,
      "outputs": [
        {
          "output_type": "execute_result",
          "data": {
            "text/plain": [
              "499"
            ]
          },
          "metadata": {},
          "execution_count": 197
        }
      ]
    },
    {
      "cell_type": "code",
      "source": [
        "train_small_df[\"eval_date\"] = train_small_df.apply(lambda row: eval_date(row['date'], datetime_dict[row['documentid_ocr']]), axis = 1)\n",
        "train_small_df['eval_date'].sum()"
      ],
      "metadata": {
        "colab": {
          "base_uri": "https://localhost:8080/",
          "height": 0
        },
        "id": "jrDrS6ZHhbcM",
        "outputId": "3578b596-0055-46ac-fa96-92ce50481e01"
      },
      "execution_count": 198,
      "outputs": [
        {
          "output_type": "execute_result",
          "data": {
            "text/plain": [
              "1220"
            ]
          },
          "metadata": {},
          "execution_count": 198
        }
      ]
    },
    {
      "cell_type": "code",
      "source": [
        "data = train_small_df.to_numpy()"
      ],
      "metadata": {
        "id": "j9xCN3DJilOl"
      },
      "execution_count": 199,
      "outputs": []
    },
    {
      "cell_type": "code",
      "source": [
        "y = data[:,-5]\n",
        "X = data[:, -4:]\n",
        "y = y.astype(int)"
      ],
      "metadata": {
        "id": "3qHVzTaLi0s_"
      },
      "execution_count": 204,
      "outputs": []
    },
    {
      "cell_type": "markdown",
      "source": [
        "## Split training and validation data"
      ],
      "metadata": {
        "id": "Ygqy3axmDgdZ"
      }
    },
    {
      "cell_type": "code",
      "source": [
        "from sklearn.model_selection import train_test_split\n",
        "\n",
        "X_train, X_val, y_train, y_val = train_test_split(X, y, test_size = 0.2, random_state = 42)"
      ],
      "metadata": {
        "id": "v_3n9YZ5j371"
      },
      "execution_count": 205,
      "outputs": []
    },
    {
      "cell_type": "markdown",
      "source": [
        "## Logistic Regression Classifier"
      ],
      "metadata": {
        "id": "2n72IhtGEElA"
      }
    },
    {
      "cell_type": "code",
      "source": [
        "from sklearn.linear_model import LogisticRegression\n",
        "from sklearn.metrics import confusion_matrix, ConfusionMatrixDisplay\n",
        "\n",
        "clf = LogisticRegression(random_state=0, class_weight={0: 1/10, 1: 9/10}).fit(X_train, y_train)\n",
        "y_pred = clf.predict(X_val)\n",
        "cm = confusion_matrix(y_val, y_pred)\n",
        "\n",
        "disp = ConfusionMatrixDisplay(cm)\n",
        "disp.plot()\n",
        "\n",
        "print(\"Predicted Probablity: \")\n",
        "print(clf.predict_proba(X[:2, :]))\n",
        "print(\"Coefficients: \")\n",
        "clf.coef_"
      ],
      "metadata": {
        "colab": {
          "base_uri": "https://localhost:8080/",
          "height": 366
        },
        "id": "McCkca-skM9P",
        "outputId": "f1d86a0f-485e-4caa-e140-9ffb54120f5b"
      },
      "execution_count": 256,
      "outputs": [
        {
          "output_type": "stream",
          "name": "stdout",
          "text": [
            "Predicted Probablity: \n",
            "[[9.76882547e-01 2.31174533e-02]\n",
            " [9.99508780e-01 4.91220164e-04]]\n",
            "Coefficients: \n"
          ]
        },
        {
          "output_type": "execute_result",
          "data": {
            "text/plain": [
              "array([[2.83490887, 2.11883454, 5.19327531, 5.50898372]])"
            ]
          },
          "metadata": {},
          "execution_count": 256
        },
        {
          "output_type": "display_data",
          "data": {
            "text/plain": [
              "<Figure size 432x288 with 2 Axes>"
            ],
            "image/png": "[encoded data removed]"
          },
          "metadata": {
            "needs_background": "light"
          }
        }
      ]
    },
    {
      "cell_type": "code",
      "source": [
        "from sklearn.metrics import precision_recall_fscore_support\n",
        "precision, recall, fbetascore, support = precision_recall_fscore_support(y_val, y_pred, average = \"binary\")\n",
        "precision, recall, fbetascore, support"
      ],
      "metadata": {
        "colab": {
          "base_uri": "https://localhost:8080/",
          "height": 0
        },
        "id": "yFa2tZ2GFap4",
        "outputId": "aa7d4c54-922a-4a7a-f065-09bf85fb8d4d"
      },
      "execution_count": 257,
      "outputs": [
        {
          "output_type": "execute_result",
          "data": {
            "text/plain": [
              "(0.6153846153846154, 0.8421052631578947, 0.7111111111111111, None)"
            ]
          },
          "metadata": {},
          "execution_count": 257
        }
      ]
    },
    {
      "cell_type": "code",
      "source": [
        "clf = LogisticRegression(random_state=2, class_weight={0: 1/10, 1: 9/10}).fit(X, y)"
      ],
      "metadata": {
        "id": "UQ2FiChlFCiH"
      },
      "execution_count": 251,
      "outputs": []
    },
    {
      "cell_type": "markdown",
      "source": [
        "ROC AUC score"
      ],
      "metadata": {
        "id": "iqmdCnA-FhWF"
      }
    },
    {
      "cell_type": "code",
      "source": [
        "from sklearn.metrics import roc_auc_score\n",
        "\n",
        "roc_auc_score(y_val, clf.predict_proba(X_val)[:, 1])"
      ],
      "metadata": {
        "colab": {
          "base_uri": "https://localhost:8080/",
          "height": 0
        },
        "id": "_g92Dcp2FjSE",
        "outputId": "9659edf4-48a7-4f55-aeaa-2c8447ba25f7"
      },
      "execution_count": 218,
      "outputs": [
        {
          "output_type": "execute_result",
          "data": {
            "text/plain": [
              "0.9968236387855326"
            ]
          },
          "metadata": {},
          "execution_count": 218
        }
      ]
    },
    {
      "cell_type": "markdown",
      "source": [
        "## XGBoost Classifier"
      ],
      "metadata": {
        "id": "TGUSsWxOE6E1"
      }
    },
    {
      "cell_type": "code",
      "source": [
        "from xgboost import XGBClassifier\n",
        "\n",
        "clf2 = XGBClassifier(max_depth = 4, rand_state = 2).fit(X_train, y_train)\n",
        "\n",
        "     \n",
        "y_pred = clf2.predict(X_val)\n",
        "cm = confusion_matrix(y_val, y_pred)\n",
        "\n",
        "disp = ConfusionMatrixDisplay(cm)\n",
        "disp.plot()\n",
        "\n",
        "print(clf2.predict_proba(X[:2, :]))\n",
        "clf2.score(X_val, y_val)"
      ],
      "metadata": {
        "colab": {
          "base_uri": "https://localhost:8080/",
          "height": 331
        },
        "id": "blfwUsEQziSJ",
        "outputId": "82cb8f3d-917a-4b88-d801-0170238698ee"
      },
      "execution_count": 254,
      "outputs": [
        {
          "output_type": "stream",
          "name": "stdout",
          "text": [
            "[[9.9609685e-01 3.9031673e-03]\n",
            " [9.9997324e-01 2.6779520e-05]]\n"
          ]
        },
        {
          "output_type": "execute_result",
          "data": {
            "text/plain": [
              "0.9993172827854863"
            ]
          },
          "metadata": {},
          "execution_count": 254
        },
        {
          "output_type": "display_data",
          "data": {
            "text/plain": [
              "<Figure size 432x288 with 2 Axes>"
            ],
            "image/png": "[encoded data removed]"
          },
          "metadata": {
            "needs_background": "light"
          }
        }
      ]
    },
    {
      "cell_type": "markdown",
      "source": [
        "Precision and Recall"
      ],
      "metadata": {
        "id": "yzsfjSvhFUmT"
      }
    },
    {
      "cell_type": "code",
      "source": [
        "from sklearn.metrics import precision_recall_fscore_support\n",
        "precision, recall, fbetascore, support = precision_recall_fscore_support(y_val, y_pred, average = \"binary\")\n",
        "precision, recall, fbetascore, support"
      ],
      "metadata": {
        "colab": {
          "base_uri": "https://localhost:8080/",
          "height": 0
        },
        "id": "Df1CusWGoxSA",
        "outputId": "04482a45-67cc-4f15-8f34-a7218684c8d9"
      },
      "execution_count": 255,
      "outputs": [
        {
          "output_type": "execute_result",
          "data": {
            "text/plain": [
              "(0.8426966292134831, 0.7894736842105263, 0.8152173913043478, None)"
            ]
          },
          "metadata": {},
          "execution_count": 255
        }
      ]
    },
    {
      "cell_type": "markdown",
      "source": [
        "ROC AUC Score"
      ],
      "metadata": {
        "id": "Zhkt8fGNFxpx"
      }
    },
    {
      "cell_type": "code",
      "source": [
        "from sklearn.metrics import roc_auc_score\n",
        "\n",
        "roc_auc_score(y_val, clf.predict_proba(X_val)[:, 1])"
      ],
      "metadata": {
        "colab": {
          "base_uri": "https://localhost:8080/",
          "height": 0
        },
        "id": "mvdHAor6nuJI",
        "outputId": "97fa71a5-19b4-44b2-b00c-f4437752db91"
      },
      "execution_count": 222,
      "outputs": [
        {
          "output_type": "execute_result",
          "data": {
            "text/plain": [
              "0.9968236387855326"
            ]
          },
          "metadata": {},
          "execution_count": 222
        }
      ]
    },
    {
      "cell_type": "code",
      "source": [
        "clf2 = XGBClassifier(max_depth = 4, rand_state = 2).fit(X, y)"
      ],
      "metadata": {
        "id": "Q8EdKPte1Sy5"
      },
      "execution_count": 249,
      "outputs": []
    },
    {
      "cell_type": "markdown",
      "source": [
        "### Accuracy Criteria\n",
        "Given a set of ocr outputs, and a table of user transactions,  we predict a row from the user transaction data to be the source for each ocr output. We calculate accuracy by dividing number of predictions equal to ground truth by total number of predictions"
      ],
      "metadata": {
        "id": "fg-84OuHSxS4"
      }
    },
    {
      "cell_type": "markdown",
      "source": [
        "## Algorithm 1 \n",
        "Compute similarity measure and pick the row with the highest similarity measure. This similarity measured is a linear combination of the four previous engineered features."
      ],
      "metadata": {
        "id": "7-RpbWkNGTKI"
      }
    },
    {
      "cell_type": "code",
      "source": [
        "p1 = 1\n",
        "p2 = 2 \n",
        "p3 = 1 \n",
        "p4 = 1 \n",
        "\n",
        "# Compute similarity measure and pick the row with the highest similarity measure\n",
        "def voteAlgo(user_rows, ocr_text):  \n",
        "  all_scores = []\n",
        "  datetimelist = list_potential_date(ocr_text)\n",
        "\n",
        "  for i in range(len(user_rows)):\n",
        "      user_row = user_rows.iloc[i]\n",
        "      amount = user_row['amount']\n",
        "      date = user_row['date']\n",
        "      vendor_name = user_row['vendor_name']\n",
        "      vendor_address = user_row['vendor_address']\n",
        "      \n",
        "      amount_score = eval_amount(amount, ocr_text)\n",
        "      date_score = eval_date(date, datetimelist)\n",
        "      vendor_name_score = eval_vendname(vendor_name, ocr_text)\n",
        "      vendor_address_score = eval_address_score(vendor_address, ocr_text)\n",
        "\n",
        "      total_score = p1 * amount_score + p2 * date_score + p3 * vendor_name_score + p4 * vendor_address_score\n",
        "      all_scores.append(total_score)\n",
        "  predict_row_idx = all_scores.index(max(all_scores))\n",
        "  return predict_row_idx\n",
        "\n",
        "def myAlgo(docID, ocrDict):\n",
        "  ocrTxt = ocrDict[docID] \n",
        "  return voteAlgo(user_rows, ocrTxt)\n",
        "\n",
        "\n",
        "\n"
      ],
      "metadata": {
        "id": "wMn9WAyNE_e-"
      },
      "execution_count": 226,
      "outputs": []
    },
    {
      "cell_type": "markdown",
      "source": [
        "## Performance on validation dataset"
      ],
      "metadata": {
        "id": "cpUK6uqDGiAm"
      }
    },
    {
      "cell_type": "code",
      "source": [
        "import numpy as np\n",
        "from tqdm import tqdm\n",
        "import warnings\n",
        "warnings.filterwarnings('ignore')\n",
        "\n",
        "user_rows = pd.read_csv('/content/drive/MyDrive/Datathon/Users.csv')\n",
        "filestem = \"/content/drive/MyDrive/Datathon/ocr-20230128T024910Z-001/ocr/\"\n",
        "ordered_documentid_array = np.array(user_rows[\"documentid\"])\n",
        "correct_predicted_array = np.arange(0, 499, 1)\n",
        "\n",
        "def predict(pred_func, correct_predicted_array, all_ocr):\n",
        "    predicted_array = np.zeros(correct_predicted_array.size)\n",
        "    for idx in tqdm(range(ordered_documentid_array.size)):\n",
        "        predicted_array[idx] = pred_func(ordered_documentid_array[idx], all_ocr)\n",
        "\n",
        "    num_correct_choices = (predicted_array == correct_predicted_array).sum()\n",
        "    assert (predicted_array.size == correct_predicted_array.size)\n",
        "    print(num_correct_choices)\n",
        "    print(\"Accuracy of the given model is {0} \".format(num_correct_choices / predicted_array.size))\n",
        "    result = {ordered_documentid_array[i]: (predicted_array[i], correct_predicted_array[i]) for i in range(len(ordered_documentid_array))}\n",
        "    return num_correct_choices / predicted_array.size, result\n",
        "\n",
        "print(predict(myAlgo, correct_predicted_array, train_ocr_small))"
      ],
      "metadata": {
        "colab": {
          "base_uri": "https://localhost:8080/",
          "height": 0
        },
        "id": "hJdnvgm5GpAY",
        "outputId": "36bfdfb1-b5ba-4718-ea90-309bb1844e4b"
      },
      "execution_count": 227,
      "outputs": [
        {
          "output_type": "stream",
          "name": "stderr",
          "text": [
            "100%|██████████| 499/499 [01:13<00:00,  6.75it/s]"
          ]
        },
        {
          "output_type": "stream",
          "name": "stdout",
          "text": [
            "436\n",
            "Accuracy of the given model is 0.87374749498998 \n",
            "(0.87374749498998, {'00d0624439175': (120.0, 0), '00d0654270874': (1.0, 1), '00d0403711886': (2.0, 2), '00d0956164753': (3.0, 3), '00d0667839698': (37.0, 4), '00d0841246769': (5.0, 5), '00d0414196980': (6.0, 6), '00d0726523245': (7.0, 7), '00d0320587587': (8.0, 8), '00d0333208815': (9.0, 9), '00d0330533884': (10.0, 10), '00d0694627982': (11.0, 11), '00d0408017404': (12.0, 12), '00d0447521528': (13.0, 13), '00d0194076657': (14.0, 14), '00d0546591203': (15.0, 15), '00d0116292534': (16.0, 16), '00d0796308197': (17.0, 17), '00d0992127574': (18.0, 18), '00d0961798581': (19.0, 19), '00d0267909555': (20.0, 20), '00d0973462000': (21.0, 21), '00d0280864237': (22.0, 22), '00d0697219524': (23.0, 23), '00d0145695018': (24.0, 24), '00d0330285744': (25.0, 25), '00d0477960526': (26.0, 26), '00d0955195431': (27.0, 27), '00d0167381962': (28.0, 28), '00d0614628355': (29.0, 29), '00d0761346037': (30.0, 30), '00d0502129574': (31.0, 31), '00d0686078737': (32.0, 32), '00d0674212079': (33.0, 33), '00d0989196649': (34.0, 34), '00d0797361085': (35.0, 35), '00d0592118004': (37.0, 36), '00d0130065999': (37.0, 37), '00d0781074499': (38.0, 38), '00d0682329345': (39.0, 39), '00d0523654121': (40.0, 40), '00d0458708415': (41.0, 41), '00d0868680143': (42.0, 42), '00d0270398034': (43.0, 43), '00d0827589883': (78.0, 44), '00d0757440459': (45.0, 45), '00d0821795963': (46.0, 46), '00d0234070159': (47.0, 47), '00d0355426817': (48.0, 48), '00d0529128132': (49.0, 49), '00d0533588228': (50.0, 50), '00d0749666123': (51.0, 51), '00d0630325043': (52.0, 52), '00d0266020596': (496.0, 53), '00d0975647950': (54.0, 54), '00d0484942812': (51.0, 55), '00d0708429922': (283.0, 56), '00d0543406251': (57.0, 57), '00d0363399593': (161.0, 58), '00d0920231897': (63.0, 59), '00d0855903342': (60.0, 60), '00d0196808024': (61.0, 61), '00d0212522180': (62.0, 62), '00d0282395578': (63.0, 63), '00d0668346631': (64.0, 64), '00d0806991732': (176.0, 65), '00d0648982621': (66.0, 66), '00d0530467663': (67.0, 67), '00d0449236994': (68.0, 68), '00d0288011947': (69.0, 69), '00d0837897960': (70.0, 70), '00d0266548523': (71.0, 71), '00d0114026522': (72.0, 72), '00d0945045450': (73.0, 73), '00d0158328888': (74.0, 74), '00d0388872730': (221.0, 75), '00d0760612254': (76.0, 76), '00d0975647472': (77.0, 77), '00d0678943517': (78.0, 78), '00d0749169797': (79.0, 79), '00d0202261292': (243.0, 80), '00d0582681704': (81.0, 81), '00d0911031443': (82.0, 82), '00d0685723809': (83.0, 83), '00d0891802782': (84.0, 84), '00d0887482293': (85.0, 85), '00d0202365816': (86.0, 86), '00d0485758378': (34.0, 87), '00d0384870576': (88.0, 88), '00d0237756126': (89.0, 89), '00d0737345187': (90.0, 90), '00d0782503250': (91.0, 91), '00d0396057665': (92.0, 92), '00d0785646736': (6.0, 93), '00d0354051709': (94.0, 94), '00d0929882897': (235.0, 95), '00d0511840834': (96.0, 96), '00d0627357411': (97.0, 97), '00d0192025858': (383.0, 98), '00d0889453684': (99.0, 99), '00d0358154075': (100.0, 100), '00d0871332887': (101.0, 101), '00d0799986048': (102.0, 102), '00d0233173701': (103.0, 103), '00d0201833623': (104.0, 104), '00d0477553790': (105.0, 105), '00d0532350198': (106.0, 106), '00d0196984382': (107.0, 107), '00d0568013096': (108.0, 108), '00d0416368925': (109.0, 109), '00d0119878906': (110.0, 110), '00d0721665358': (111.0, 111), '00d0225816395': (112.0, 112), '00d0164592408': (113.0, 113), '00d0375035482': (114.0, 114), '00d0973066652': (115.0, 115), '00d0558270937': (116.0, 116), '00d0400479663': (117.0, 117), '00d0676485252': (118.0, 118), '00d0948483091': (119.0, 119), '00d0876488640': (280.0, 120), '00d0879733105': (148.0, 121), '00d0705950948': (122.0, 122), '00d0641642649': (123.0, 123), '00d0449498451': (124.0, 124), '00d0627737900': (125.0, 125), '00d0453226524': (126.0, 126), '00d0218523505': (127.0, 127), '00d0258506946': (128.0, 128), '00d0717257644': (129.0, 129), '00d0316894686': (130.0, 130), '00d0401609886': (131.0, 131), '00d0774018859': (132.0, 132), '00d0183401385': (133.0, 133), '00d0270792056': (134.0, 134), '00d0497274391': (135.0, 135), '00d0773577731': (136.0, 136), '00d0844818369': (137.0, 137), '00d0390662905': (138.0, 138), '00d0271842165': (139.0, 139), '00d0601744334': (140.0, 140), '00d0834036599': (141.0, 141), '00d0617357249': (142.0, 142), '00d0328708236': (143.0, 143), '00d0286887687': (144.0, 144), '00d0776440475': (145.0, 145), '00d0881334709': (146.0, 146), '00d0485821436': (147.0, 147), '00d0570374781': (148.0, 148), '00d0967073777': (149.0, 149), '00d0527382713': (34.0, 150), '00d0463604996': (213.0, 151), '00d0737981299': (152.0, 152), '00d0680000515': (383.0, 153), '00d0680178711': (154.0, 154), '00d0992959314': (291.0, 155), '00d0106074517': (156.0, 156), '00d0901837324': (157.0, 157), '00d0471591245': (158.0, 158), '00d0668503128': (364.0, 159), '00d0281320276': (160.0, 160), '00d0307768744': (161.0, 161), '00d0393260166': (162.0, 162), '00d0724729985': (163.0, 163), '00d0457456115': (164.0, 164), '00d0987973134': (165.0, 165), '00d0394257241': (256.0, 166), '00d0864219792': (167.0, 167), '00d0474678678': (168.0, 168), '00d0396141876': (169.0, 169), '00d0778866561': (170.0, 170), '00d0708763656': (101.0, 171), '00d0510871247': (172.0, 172), '00d0828214133': (173.0, 173), '00d0339705365': (174.0, 174), '00d0242626168': (175.0, 175), '00d0842605090': (176.0, 176), '00d0552638268': (177.0, 177), '00d0250566763': (178.0, 178), '00d0338548353': (179.0, 179), '00d0118393124': (180.0, 180), '00d0272306272': (181.0, 181), '00d0710387537': (37.0, 182), '00d0150882989': (183.0, 183), '00d0207985673': (184.0, 184), '00d0500910371': (185.0, 185), '00d0921271701': (186.0, 186), '00d0757215171': (187.0, 187), '00d0977582300': (188.0, 188), '00d0363991072': (189.0, 189), '00d0423671916': (190.0, 190), '00d0166687964': (191.0, 191), '00d0733466225': (192.0, 192), '00d0916574976': (193.0, 193), '00d0459172796': (194.0, 194), '00d0849221655': (96.0, 195), '00d0464742744': (196.0, 196), '00d0845867211': (197.0, 197), '00d0320901819': (198.0, 198), '00d0972867846': (199.0, 199), '00d0738014969': (200.0, 200), '00d0877220068': (201.0, 201), '00d0485748096': (202.0, 202), '00d0768446621': (203.0, 203), '00d0837787542': (204.0, 204), '00d0965540723': (205.0, 205), '00d0880901672': (206.0, 206), '00d0201738305': (207.0, 207), '00d0194569644': (120.0, 208), '00d0328806229': (37.0, 209), '00d0859698635': (210.0, 210), '00d0577470816': (211.0, 211), '00d0784934925': (212.0, 212), '00d0954032591': (213.0, 213), '00d0594663786': (214.0, 214), '00d0542888628': (215.0, 215), '00d0308106888': (216.0, 216), '00d0980207211': (217.0, 217), '00d0166829801': (45.0, 218), '00d0543055869': (219.0, 219), '00d0347606159': (125.0, 220), '00d0100894168': (221.0, 221), '00d0292723088': (222.0, 222), '00d0793133421': (223.0, 223), '00d0661661607': (176.0, 224), '00d0206117546': (365.0, 225), '00d0904732199': (226.0, 226), '00d0682202857': (227.0, 227), '00d0914854329': (213.0, 228), '00d0174270341': (229.0, 229), '00d0698784211': (230.0, 230), '00d0574862056': (231.0, 231), '00d0722335566': (232.0, 232), '00d0372099873': (233.0, 233), '00d0696518680': (234.0, 234), '00d0282138675': (235.0, 235), '00d0581923422': (236.0, 236), '00d0188523936': (237.0, 237), '00d0147095939': (238.0, 238), '00d0209546609': (239.0, 239), '00d0124895452': (240.0, 240), '00d0843646516': (241.0, 241), '00d0826414442': (345.0, 242), '00d0942116852': (243.0, 243), '00d0417300467': (40.0, 244), '00d0803190070': (245.0, 245), '00d0610473999': (246.0, 246), '00d0106280922': (247.0, 247), '00d0243521534': (248.0, 248), '00d0675832982': (249.0, 249), '00d0272031259': (250.0, 250), '00d0606540603': (251.0, 251), '00d0876844472': (252.0, 252), '00d0859215539': (253.0, 253), '00d0616798510': (254.0, 254), '00d0834688755': (255.0, 255), '00d0970540567': (213.0, 256), '00d0472913563': (257.0, 257), '00d0541369548': (258.0, 258), '00d0542157895': (354.0, 259), '00d0840814576': (260.0, 260), '00d0524794165': (261.0, 261), '00d0163078697': (262.0, 262), '00d0702637244': (263.0, 263), '00d0757881141': (264.0, 264), '00d0271405634': (265.0, 265), '00d0582732557': (266.0, 266), '00d0619690945': (267.0, 267), '00d0174068255': (268.0, 268), '00d0678037496': (269.0, 269), '00d0365513088': (213.0, 270), '00d0937018331': (271.0, 271), '00d0103738916': (272.0, 272), '00d0318453525': (273.0, 273), '00d0382500008': (274.0, 274), '00d0981274700': (275.0, 275), '00d0452553939': (276.0, 276), '00d0395061839': (277.0, 277), '00d0353042107': (278.0, 278), '00d0841330621': (279.0, 279), '00d0652046562': (280.0, 280), '00d0820736669': (281.0, 281), '00d0935702550': (282.0, 282), '00d0388919382': (283.0, 283), '00d0294263018': (284.0, 284), '00d0742987288': (285.0, 285), '00d0910676977': (286.0, 286), '00d0571602960': (287.0, 287), '00d0645069761': (288.0, 288), '00d0958758313': (289.0, 289), '00d0747284670': (290.0, 290), '00d0711624382': (291.0, 291), '00d0989858817': (292.0, 292), '00d0770154989': (293.0, 293), '00d0240488407': (294.0, 294), '00d0542653551': (295.0, 295), '00d0314913072': (296.0, 296), '00d0608126101': (297.0, 297), '00d0307106203': (298.0, 298), '00d0108922007': (209.0, 299), '00d0774260218': (300.0, 300), '00d0560446704': (301.0, 301), '00d0513207673': (302.0, 302), '00d0805870344': (167.0, 303), '00d0734493835': (304.0, 304), '00d0752976763': (305.0, 305), '00d0390492165': (306.0, 306), '00d0313212291': (307.0, 307), '00d0464021737': (308.0, 308), '00d0379996414': (309.0, 309), '00d0677299556': (310.0, 310), '00d0735262766': (311.0, 311), '00d0649375713': (312.0, 312), '00d0259552507': (129.0, 313), '00d0551541808': (314.0, 314), '00d0178827407': (315.0, 315), '00d0810901932': (316.0, 316), '00d0189067460': (317.0, 317), '00d0928411057': (318.0, 318), '00d0921867955': (294.0, 319), '00d0394931168': (320.0, 320), '00d0665595833': (321.0, 321), '00d0647759775': (322.0, 322), '00d0437873955': (323.0, 323), '00d0743614936': (324.0, 324), '00d0241023069': (325.0, 325), '00d0997573916': (326.0, 326), '00d0982931302': (145.0, 327), '00d0635477367': (328.0, 328), '00d0944630849': (329.0, 329), '00d0863890590': (330.0, 330), '00d0407044350': (331.0, 331), '00d0572439292': (332.0, 332), '00d0369571763': (37.0, 333), '00d0801912850': (334.0, 334), '00d0504725741': (335.0, 335), '00d0243046961': (336.0, 336), '00d0992954979': (337.0, 337), '00d0632354255': (338.0, 338), '00d0890929577': (339.0, 339), '00d0685059326': (340.0, 340), '00d0326687304': (341.0, 341), '00d0831136284': (342.0, 342), '00d0489061247': (343.0, 343), '00d0377951457': (344.0, 344), '00d0123031653': (345.0, 345), '00d0790157720': (346.0, 346), '00d0744539202': (347.0, 347), '00d0854345015': (348.0, 348), '00d0500564944': (7.0, 349), '00d0764855917': (204.0, 350), '00d0180967427': (351.0, 351), '00d0585896483': (352.0, 352), '00d0185599105': (353.0, 353), '00d0443910003': (354.0, 354), '00d0453904564': (355.0, 355), '00d0952509602': (356.0, 356), '00d0319760858': (357.0, 357), '00d0255697730': (358.0, 358), '00d0603631647': (359.0, 359), '00d0827595193': (360.0, 360), '00d0694169739': (361.0, 361), '00d0976342068': (362.0, 362), '00d0592371977': (363.0, 363), '00d0483826961': (364.0, 364), '00d0139642641': (365.0, 365), '00d0238897436': (366.0, 366), '00d0334664099': (367.0, 367), '00d0752144290': (368.0, 368), '00d0608566104': (245.0, 369), '00d0198786728': (370.0, 370), '00d0490682838': (371.0, 371), '00d0892499515': (372.0, 372), '00d0758726468': (373.0, 373), '00d0495694280': (374.0, 374), '00d0627668053': (375.0, 375), '00d0235890341': (376.0, 376), '00d0976572552': (377.0, 377), '00d0770792669': (378.0, 378), '00d0724139826': (379.0, 379), '00d0165073570': (380.0, 380), '00d0922342206': (381.0, 381), '00d0408489357': (382.0, 382), '00d0969391958': (383.0, 383), '00d0945445352': (384.0, 384), '00d0675769257': (385.0, 385), '00d0353443719': (386.0, 386), '00d0981184214': (387.0, 387), '00d0696021247': (388.0, 388), '00d0263805728': (389.0, 389), '00d0602427476': (390.0, 390), '00d0206414354': (480.0, 391), '00d0723945064': (392.0, 392), '00d0749657219': (393.0, 393), '00d0416161702': (394.0, 394), '00d0471481845': (395.0, 395), '00d0951021760': (396.0, 396), '00d0569507667': (397.0, 397), '00d0763327632': (398.0, 398), '00d0346543074': (399.0, 399), '00d0686397126': (400.0, 400), '00d0388190762': (401.0, 401), '00d0628164309': (402.0, 402), '00d0835959293': (403.0, 403), '00d0928366034': (404.0, 404), '00d0750315464': (405.0, 405), '00d0595804986': (406.0, 406), '00d0599423844': (407.0, 407), '00d0957822503': (408.0, 408), '00d0784103375': (409.0, 409), '00d0831212127': (410.0, 410), '00d0191077139': (411.0, 411), '00d0201817639': (284.0, 412), '00d0776331594': (413.0, 413), '00d0734092781': (97.0, 414), '00d0986033233': (415.0, 415), '00d0950629356': (416.0, 416), '00d0259127407': (417.0, 417), '00d0606455264': (418.0, 418), '00d0639354292': (213.0, 419), '00d0607552804': (420.0, 420), '00d0930697230': (421.0, 421), '00d0426803895': (422.0, 422), '00d0638988191': (423.0, 423), '00d0121880972': (424.0, 424), '00d0664097059': (425.0, 425), '00d0377572170': (426.0, 426), '00d0182384739': (427.0, 427), '00d0953772440': (428.0, 428), '00d0534693438': (146.0, 429), '00d0964499840': (430.0, 430), '00d0904741091': (431.0, 431), '00d0674219107': (432.0, 432), '00d0362311019': (433.0, 433), '00d0760304510': (434.0, 434), '00d0588374381': (435.0, 435), '00d0911267818': (436.0, 436), '00d0411132243': (437.0, 437), '00d0913770897': (438.0, 438), '00d0308915412': (439.0, 439), '00d0419719085': (440.0, 440), '00d0948775947': (441.0, 441), '00d0564198512': (442.0, 442), '00d0194796076': (443.0, 443), '00d0448828100': (444.0, 444), '00d0599930970': (445.0, 445), '00d0876837917': (446.0, 446), '00d0650437495': (447.0, 447), '00d0338048914': (448.0, 448), '00d0626463001': (213.0, 449), '00d0389135415': (256.0, 450), '00d0886341707': (451.0, 451), '00d0435587221': (452.0, 452), '00d0422368687': (453.0, 453), '00d0920899195': (454.0, 454), '00d0450998902': (455.0, 455), '00d0530724847': (456.0, 456), '00d0935614053': (457.0, 457), '00d0787822677': (458.0, 458), '00d0885837043': (459.0, 459), '00d0726102139': (61.0, 460), '00d0177909385': (247.0, 461), '00d0764796072': (462.0, 462), '00d0242366463': (463.0, 463), '00d0844880238': (464.0, 464), '00d0439076290': (465.0, 465), '00d0171220341': (466.0, 466), '00d0827574327': (467.0, 467), '00d0159988592': (9.0, 468), '00d0432757654': (469.0, 469), '00d0338418904': (470.0, 470), '00d0692025607': (471.0, 471), '00d0366175414': (472.0, 472), '00d0289417092': (293.0, 473), '00d0116788763': (474.0, 474), '00d0553233477': (475.0, 475), '00d0366117594': (476.0, 476), '00d0968376605': (477.0, 477), '00d0159517738': (478.0, 478), '00d0884773399': (213.0, 479), '00d0930689679': (480.0, 480), '00d0815885891': (481.0, 481), '00d0963161084': (482.0, 482), '00d0817657245': (483.0, 483), '00d0818597221': (484.0, 484), '00d0400234172': (485.0, 485), '00d0186887844': (280.0, 486), '00d0797433528': (487.0, 487), '00d0976607312': (488.0, 488), '00d0849102191': (489.0, 489), '00d0892818805': (235.0, 490), '00d0555910882': (484.0, 491), '00d0343987945': (492.0, 492), '00d0453489586': (493.0, 493), '00d0223498663': (494.0, 494), '00d0206227401': (495.0, 495), '00d0898930568': (496.0, 496), '00d0397644256': (497.0, 497), '00d0692152542': (498.0, 498)})\n"
          ]
        },
        {
          "output_type": "stream",
          "name": "stderr",
          "text": [
            "\n"
          ]
        }
      ]
    },
    {
      "cell_type": "markdown",
      "source": [
        "## Performance on test set"
      ],
      "metadata": {
        "id": "NxMyviy1G9aQ"
      }
    },
    {
      "cell_type": "code",
      "source": [
        "import numpy as np\n",
        "from tqdm import tqdm\n",
        "import warnings\n",
        "warnings.filterwarnings('ignore')\n",
        "\n",
        "user_rows = pd.read_csv('/content/drive/MyDrive/Datathon/test_transactions.csv')\n",
        "filestem = \"/content/drive/MyDrive/Datathon/ocr-20230128T024910Z-001/ocr/\"\n",
        "ordered_documentid_array = np.array(user_rows[\"documentid\"])\n",
        "correct_predicted_array = np.arange(0, 126, 1)\n",
        "\n",
        "def predict(pred_func, correct_predicted_array, all_ocr):\n",
        "    predicted_array = np.zeros(correct_predicted_array.size)\n",
        "    for idx in tqdm(range(ordered_documentid_array.size)):\n",
        "        predicted_array[idx] = pred_func(ordered_documentid_array[idx], all_ocr)\n",
        "\n",
        "    num_correct_choices = (predicted_array == correct_predicted_array).sum()\n",
        "\n",
        "    assert (predicted_array.size == correct_predicted_array.size)\n",
        "    print(num_correct_choices)\n",
        "    print(\"Accuracy of the given model is {0} \".format(num_correct_choices / predicted_array.size))\n",
        "    result = {ordered_documentid_array[i]: (predicted_array[i], correct_predicted_array[i]) for i in range(len(ordered_documentid_array))}\n",
        "    return num_correct_choices / predicted_array.size, result\n",
        "\n",
        "print(predict(myAlgo, correct_predicted_array, test_ocr))"
      ],
      "metadata": {
        "colab": {
          "base_uri": "https://localhost:8080/",
          "height": 0
        },
        "id": "Ahm0yD1yHGDj",
        "outputId": "d1eb2460-bf10-4cba-fd25-67ff22ce4331"
      },
      "execution_count": 232,
      "outputs": [
        {
          "output_type": "stream",
          "name": "stderr",
          "text": [
            "100%|██████████| 126/126 [00:04<00:00, 26.59it/s]\n"
          ]
        },
        {
          "output_type": "stream",
          "name": "stdout",
          "text": [
            "118\n",
            "Accuracy of the given model is 0.9365079365079365 \n",
            "(0.9365079365079365, {'00d0472780579': (0.0, 0), '00d0269258457': (31.0, 1), '00d0145054354': (2.0, 2), '00d0795468800': (3.0, 3), '00d0682248746': (4.0, 4), '00d0471112949': (5.0, 5), '00d0472591457': (6.0, 6), '00d0354593861': (7.0, 7), '00d0179226173': (8.0, 8), '00d0277307035': (9.0, 9), '00d0902256238': (10.0, 10), '00d0230547657': (11.0, 11), '00d0859401532': (12.0, 12), '00d0343958098': (13.0, 13), '00d0676711962': (14.0, 14), '00d0114666542': (35.0, 15), '00d0507143553': (16.0, 16), '00d0622420051': (109.0, 17), '00d0831446713': (18.0, 18), '00d0472127340': (19.0, 19), '00d0164203891': (20.0, 20), '00d0343123955': (21.0, 21), '00d0714317145': (22.0, 22), '00d0443302756': (23.0, 23), '00d0484705589': (24.0, 24), '00d0415751725': (25.0, 25), '00d0726056883': (18.0, 26), '00d0916006350': (27.0, 27), '00d0660852423': (28.0, 28), '00d0811301203': (25.0, 29), '00d0741622526': (30.0, 30), '00d0204688228': (31.0, 31), '00d0115214912': (32.0, 32), '00d0508747957': (33.0, 33), '00d0547495073': (34.0, 34), '00d0504003816': (106.0, 35), '00d0870184164': (36.0, 36), '00d0128862298': (37.0, 37), '00d0658523473': (38.0, 38), '00d0537233731': (39.0, 39), '00d0384888865': (40.0, 40), '00d0564199588': (41.0, 41), '00d0207352920': (42.0, 42), '00d0121860229': (43.0, 43), '00d0729993616': (44.0, 44), '00d0950145735': (45.0, 45), '00d0777749051': (46.0, 46), '00d0802473715': (47.0, 47), '00d0261309649': (48.0, 48), '00d0178057064': (49.0, 49), '00d0583684114': (50.0, 50), '00d0403823907': (51.0, 51), '00d0695919511': (52.0, 52), '00d0374072400': (53.0, 53), '00d0689877704': (54.0, 54), '00d0184132278': (55.0, 55), '00d0547632877': (56.0, 56), '00d0290184065': (57.0, 57), '00d0552375573': (58.0, 58), '00d0539072705': (59.0, 59), '00d0556108338': (60.0, 60), '00d0487139957': (61.0, 61), '00d0716702145': (62.0, 62), '00d0720874250': (80.0, 63), '00d0102367243': (64.0, 64), '00d0634485458': (65.0, 65), '00d0531848355': (66.0, 66), '00d0576905492': (67.0, 67), '00d0245826221': (68.0, 68), '00d0139330423': (69.0, 69), '00d0215894408': (70.0, 70), '00d0741384754': (71.0, 71), '00d0702366697': (72.0, 72), '00d0385248621': (73.0, 73), '00d0772671396': (74.0, 74), '00d0910776987': (75.0, 75), '00d0435331752': (76.0, 76), '00d0864913249': (77.0, 77), '00d0745818528': (78.0, 78), '00d0910574175': (79.0, 79), '00d0383639350': (80.0, 80), '00d0992302099': (81.0, 81), '00d0178282813': (82.0, 82), '00d0999799045': (83.0, 83), '00d0815578182': (84.0, 84), '00d0788646334': (85.0, 85), '00d0338271694': (86.0, 86), '00d0702501060': (87.0, 87), '00d0632172733': (88.0, 88), '00d0828995688': (89.0, 89), '00d0763228450': (90.0, 90), '00d0898762404': (91.0, 91), '00d0550391706': (92.0, 92), '00d0751097262': (93.0, 93), '00d0991234867': (94.0, 94), '00d0999793595': (95.0, 95), '00d0924594862': (96.0, 96), '00d0979473699': (97.0, 97), '00d0862918541': (98.0, 98), '00d0654632791': (99.0, 99), '00d0402998841': (100.0, 100), '00d0832645976': (101.0, 101), '00d0840498429': (102.0, 102), '00d0809037791': (103.0, 103), '00d0667274990': (104.0, 104), '00d0405749415': (105.0, 105), '00d0293069545': (106.0, 106), '00d0340785534': (107.0, 107), '00d0152915085': (108.0, 108), '00d0817761748': (109.0, 109), '00d0212306806': (110.0, 110), '00d0818342590': (111.0, 111), '00d0147748424': (112.0, 112), '00d0530594360': (26.0, 113), '00d0944155034': (114.0, 114), '00d0600715913': (115.0, 115), '00d0223598140': (116.0, 116), '00d0142736377': (117.0, 117), '00d0411843053': (118.0, 118), '00d0220981260': (119.0, 119), '00d0923796657': (120.0, 120), '00d0413686396': (121.0, 121), '00d0745331693': (122.0, 122), '00d0978814485': (123.0, 123), '00d0902251681': (124.0, 124), '00d0715617779': (125.0, 125)})\n"
          ]
        }
      ]
    },
    {
      "cell_type": "code",
      "source": [],
      "metadata": {
        "id": "AIyrLSCGIIe9"
      },
      "execution_count": null,
      "outputs": []
    },
    {
      "cell_type": "markdown",
      "source": [
        "## Algorithm 2 Logistic Regression\n",
        "Use logistic regression to predict a probability of having a match between the given ocr text and the row in transaction data. Pick the row with highest probability as prediction result."
      ],
      "metadata": {
        "id": "AIzudar2IJBl"
      }
    },
    {
      "cell_type": "code",
      "source": [
        "def voteAlgo2(user_rows, ocr_text):\n",
        "    all_scores = []\n",
        "    datetimelist = list_potential_date(ocr_text)\n",
        "\n",
        "    for i in range(len(user_rows)):\n",
        "        user_row = user_rows.iloc[i]\n",
        "        amount = user_row['amount']\n",
        "        date = user_row['date']\n",
        "        vendor_name = user_row['vendor_name']\n",
        "        vendor_address = user_row['vendor_address']\n",
        "        \n",
        "        amount_score = eval_amount(amount, ocr_text)\n",
        "        date_score = eval_date(date, datetimelist)\n",
        "        vendor_name_score = eval_vendname(vendor_name, ocr_text)\n",
        "        vendor_address_score = eval_address_score(vendor_address, ocr_text)\n",
        "        result = clf.predict_proba(np.array([amount_score, vendor_name_score, vendor_address_score, date_score]).reshape(1, -1))\n",
        "        result = np.array(result)\n",
        "        total_score = result[0][1]\n",
        "        \n",
        "        all_scores.append(total_score)\n",
        "    predict_row_idx = all_scores.index(max(all_scores))\n",
        "    return predict_row_idx\n",
        "\n",
        "def myAlgo2(docID, ocrDict):\n",
        "  ocrTxt = ocrDict[docID] \n",
        "  return voteAlgo2(user_rows, ocrTxt)"
      ],
      "metadata": {
        "id": "5wXPTXDLGSSb"
      },
      "execution_count": 233,
      "outputs": []
    },
    {
      "cell_type": "markdown",
      "source": [
        "## Performance on validation dataset"
      ],
      "metadata": {
        "id": "Lz8sABsYIgmB"
      }
    },
    {
      "cell_type": "code",
      "source": [
        "import numpy as np\n",
        "from tqdm import tqdm\n",
        "import warnings\n",
        "warnings.filterwarnings('ignore')\n",
        "\n",
        "user_rows = pd.read_csv('/content/drive/MyDrive/Datathon/Users.csv')\n",
        "filestem = \"/content/drive/MyDrive/Datathon/ocr-20230128T024910Z-001/ocr/\"\n",
        "ordered_documentid_array = np.array(user_rows[\"documentid\"])\n",
        "correct_predicted_array = np.arange(0, 499, 1)\n",
        "\n",
        "def predict(pred_func, correct_predicted_array, all_ocr):\n",
        "    predicted_array = np.zeros(correct_predicted_array.size)\n",
        "    for idx in tqdm(range(ordered_documentid_array.size)):\n",
        "        predicted_array[idx] = pred_func(ordered_documentid_array[idx], all_ocr)\n",
        "\n",
        "    num_correct_choices = (predicted_array == correct_predicted_array).sum()\n",
        "    assert (predicted_array.size == correct_predicted_array.size)\n",
        "    print(num_correct_choices)\n",
        "    print(\"Accuracy of the given model is {0} \".format(num_correct_choices / predicted_array.size))\n",
        "    result = {ordered_documentid_array[i]: (predicted_array[i], correct_predicted_array[i]) for i in range(len(ordered_documentid_array))}\n",
        "    return num_correct_choices / predicted_array.size, result\n",
        "\n",
        "print(predict(myAlgo2, correct_predicted_array, train_ocr_small))"
      ],
      "metadata": {
        "colab": {
          "base_uri": "https://localhost:8080/"
        },
        "outputId": "874dac1a-7925-4b36-e90e-0faee9c579b2",
        "id": "QqgqAKudIgmB"
      },
      "execution_count": null,
      "outputs": [
        {
          "output_type": "stream",
          "name": "stderr",
          "text": [
            "100%|██████████| 499/499 [02:10<00:00,  3.84it/s]"
          ]
        },
        {
          "output_type": "stream",
          "name": "stdout",
          "text": [
            "442\n",
            "Accuracy of the given model is 0.8857715430861723 \n",
            "(0.8857715430861723, {'00d0624439175': (120.0, 0), '00d0654270874': (1.0, 1), '00d0403711886': (2.0, 2), '00d0956164753': (3.0, 3), '00d0667839698': (311.0, 4), '00d0841246769': (5.0, 5), '00d0414196980': (6.0, 6), '00d0726523245': (7.0, 7), '00d0320587587': (8.0, 8), '00d0333208815': (9.0, 9), '00d0330533884': (10.0, 10), '00d0694627982': (11.0, 11), '00d0408017404': (12.0, 12), '00d0447521528': (13.0, 13), '00d0194076657': (14.0, 14), '00d0546591203': (15.0, 15), '00d0116292534': (16.0, 16), '00d0796308197': (17.0, 17), '00d0992127574': (18.0, 18), '00d0961798581': (19.0, 19), '00d0267909555': (20.0, 20), '00d0973462000': (21.0, 21), '00d0280864237': (22.0, 22), '00d0697219524': (23.0, 23), '00d0145695018': (24.0, 24), '00d0330285744': (25.0, 25), '00d0477960526': (26.0, 26), '00d0955195431': (27.0, 27), '00d0167381962': (28.0, 28), '00d0614628355': (29.0, 29), '00d0761346037': (30.0, 30), '00d0502129574': (31.0, 31), '00d0686078737': (32.0, 32), '00d0674212079': (33.0, 33), '00d0989196649': (34.0, 34), '00d0797361085': (35.0, 35), '00d0592118004': (37.0, 36), '00d0130065999': (37.0, 37), '00d0781074499': (38.0, 38), '00d0682329345': (39.0, 39), '00d0523654121': (40.0, 40), '00d0458708415': (41.0, 41), '00d0868680143': (42.0, 42), '00d0270398034': (43.0, 43), '00d0827589883': (78.0, 44), '00d0757440459': (45.0, 45), '00d0821795963': (46.0, 46), '00d0234070159': (47.0, 47), '00d0355426817': (48.0, 48), '00d0529128132': (49.0, 49), '00d0533588228': (50.0, 50), '00d0749666123': (51.0, 51), '00d0630325043': (52.0, 52), '00d0266020596': (496.0, 53), '00d0975647950': (54.0, 54), '00d0484942812': (51.0, 55), '00d0708429922': (283.0, 56), '00d0543406251': (57.0, 57), '00d0363399593': (161.0, 58), '00d0920231897': (63.0, 59), '00d0855903342': (60.0, 60), '00d0196808024': (61.0, 61), '00d0212522180': (62.0, 62), '00d0282395578': (63.0, 63), '00d0668346631': (64.0, 64), '00d0806991732': (176.0, 65), '00d0648982621': (66.0, 66), '00d0530467663': (67.0, 67), '00d0449236994': (68.0, 68), '00d0288011947': (69.0, 69), '00d0837897960': (70.0, 70), '00d0266548523': (71.0, 71), '00d0114026522': (72.0, 72), '00d0945045450': (73.0, 73), '00d0158328888': (74.0, 74), '00d0388872730': (361.0, 75), '00d0760612254': (76.0, 76), '00d0975647472': (77.0, 77), '00d0678943517': (78.0, 78), '00d0749169797': (79.0, 79), '00d0202261292': (80.0, 80), '00d0582681704': (81.0, 81), '00d0911031443': (82.0, 82), '00d0685723809': (83.0, 83), '00d0891802782': (84.0, 84), '00d0887482293': (85.0, 85), '00d0202365816': (86.0, 86), '00d0485758378': (34.0, 87), '00d0384870576': (88.0, 88), '00d0237756126': (89.0, 89), '00d0737345187': (90.0, 90), '00d0782503250': (91.0, 91), '00d0396057665': (92.0, 92), '00d0785646736': (6.0, 93), '00d0354051709': (94.0, 94), '00d0929882897': (235.0, 95), '00d0511840834': (96.0, 96), '00d0627357411': (97.0, 97), '00d0192025858': (383.0, 98), '00d0889453684': (99.0, 99), '00d0358154075': (100.0, 100), '00d0871332887': (101.0, 101), '00d0799986048': (102.0, 102), '00d0233173701': (103.0, 103), '00d0201833623': (104.0, 104), '00d0477553790': (105.0, 105), '00d0532350198': (106.0, 106), '00d0196984382': (107.0, 107), '00d0568013096': (108.0, 108), '00d0416368925': (109.0, 109), '00d0119878906': (110.0, 110), '00d0721665358': (111.0, 111), '00d0225816395': (112.0, 112), '00d0164592408': (113.0, 113), '00d0375035482': (114.0, 114), '00d0973066652': (115.0, 115), '00d0558270937': (116.0, 116), '00d0400479663': (117.0, 117), '00d0676485252': (118.0, 118), '00d0948483091': (119.0, 119), '00d0876488640': (280.0, 120), '00d0879733105': (148.0, 121), '00d0705950948': (122.0, 122), '00d0641642649': (123.0, 123), '00d0449498451': (124.0, 124), '00d0627737900': (125.0, 125), '00d0453226524': (126.0, 126), '00d0218523505': (127.0, 127), '00d0258506946': (128.0, 128), '00d0717257644': (129.0, 129), '00d0316894686': (130.0, 130), '00d0401609886': (131.0, 131), '00d0774018859': (132.0, 132), '00d0183401385': (133.0, 133), '00d0270792056': (134.0, 134), '00d0497274391': (135.0, 135), '00d0773577731': (136.0, 136), '00d0844818369': (137.0, 137), '00d0390662905': (138.0, 138), '00d0271842165': (139.0, 139), '00d0601744334': (140.0, 140), '00d0834036599': (141.0, 141), '00d0617357249': (142.0, 142), '00d0328708236': (143.0, 143), '00d0286887687': (144.0, 144), '00d0776440475': (145.0, 145), '00d0881334709': (146.0, 146), '00d0485821436': (147.0, 147), '00d0570374781': (148.0, 148), '00d0967073777': (149.0, 149), '00d0527382713': (34.0, 150), '00d0463604996': (213.0, 151), '00d0737981299': (152.0, 152), '00d0680000515': (383.0, 153), '00d0680178711': (154.0, 154), '00d0992959314': (291.0, 155), '00d0106074517': (156.0, 156), '00d0901837324': (157.0, 157), '00d0471591245': (158.0, 158), '00d0668503128': (159.0, 159), '00d0281320276': (160.0, 160), '00d0307768744': (161.0, 161), '00d0393260166': (162.0, 162), '00d0724729985': (163.0, 163), '00d0457456115': (164.0, 164), '00d0987973134': (165.0, 165), '00d0394257241': (471.0, 166), '00d0864219792': (167.0, 167), '00d0474678678': (168.0, 168), '00d0396141876': (169.0, 169), '00d0778866561': (170.0, 170), '00d0708763656': (171.0, 171), '00d0510871247': (172.0, 172), '00d0828214133': (173.0, 173), '00d0339705365': (174.0, 174), '00d0242626168': (175.0, 175), '00d0842605090': (176.0, 176), '00d0552638268': (177.0, 177), '00d0250566763': (178.0, 178), '00d0338548353': (179.0, 179), '00d0118393124': (180.0, 180), '00d0272306272': (181.0, 181), '00d0710387537': (182.0, 182), '00d0150882989': (183.0, 183), '00d0207985673': (184.0, 184), '00d0500910371': (185.0, 185), '00d0921271701': (186.0, 186), '00d0757215171': (187.0, 187), '00d0977582300': (188.0, 188), '00d0363991072': (189.0, 189), '00d0423671916': (190.0, 190), '00d0166687964': (191.0, 191), '00d0733466225': (192.0, 192), '00d0916574976': (193.0, 193), '00d0459172796': (194.0, 194), '00d0849221655': (96.0, 195), '00d0464742744': (196.0, 196), '00d0845867211': (197.0, 197), '00d0320901819': (198.0, 198), '00d0972867846': (199.0, 199), '00d0738014969': (200.0, 200), '00d0877220068': (201.0, 201), '00d0485748096': (202.0, 202), '00d0768446621': (203.0, 203), '00d0837787542': (204.0, 204), '00d0965540723': (205.0, 205), '00d0880901672': (206.0, 206), '00d0201738305': (207.0, 207), '00d0194569644': (120.0, 208), '00d0328806229': (37.0, 209), '00d0859698635': (210.0, 210), '00d0577470816': (211.0, 211), '00d0784934925': (212.0, 212), '00d0954032591': (213.0, 213), '00d0594663786': (214.0, 214), '00d0542888628': (215.0, 215), '00d0308106888': (216.0, 216), '00d0980207211': (217.0, 217), '00d0166829801': (45.0, 218), '00d0543055869': (219.0, 219), '00d0347606159': (220.0, 220), '00d0100894168': (221.0, 221), '00d0292723088': (222.0, 222), '00d0793133421': (223.0, 223), '00d0661661607': (176.0, 224), '00d0206117546': (365.0, 225), '00d0904732199': (226.0, 226), '00d0682202857': (227.0, 227), '00d0914854329': (213.0, 228), '00d0174270341': (229.0, 229), '00d0698784211': (230.0, 230), '00d0574862056': (231.0, 231), '00d0722335566': (232.0, 232), '00d0372099873': (233.0, 233), '00d0696518680': (234.0, 234), '00d0282138675': (235.0, 235), '00d0581923422': (236.0, 236), '00d0188523936': (237.0, 237), '00d0147095939': (238.0, 238), '00d0209546609': (239.0, 239), '00d0124895452': (240.0, 240), '00d0843646516': (241.0, 241), '00d0826414442': (345.0, 242), '00d0942116852': (243.0, 243), '00d0417300467': (40.0, 244), '00d0803190070': (245.0, 245), '00d0610473999': (246.0, 246), '00d0106280922': (247.0, 247), '00d0243521534': (248.0, 248), '00d0675832982': (249.0, 249), '00d0272031259': (250.0, 250), '00d0606540603': (251.0, 251), '00d0876844472': (252.0, 252), '00d0859215539': (253.0, 253), '00d0616798510': (254.0, 254), '00d0834688755': (255.0, 255), '00d0970540567': (213.0, 256), '00d0472913563': (257.0, 257), '00d0541369548': (258.0, 258), '00d0542157895': (354.0, 259), '00d0840814576': (260.0, 260), '00d0524794165': (261.0, 261), '00d0163078697': (262.0, 262), '00d0702637244': (263.0, 263), '00d0757881141': (264.0, 264), '00d0271405634': (265.0, 265), '00d0582732557': (266.0, 266), '00d0619690945': (267.0, 267), '00d0174068255': (268.0, 268), '00d0678037496': (269.0, 269), '00d0365513088': (213.0, 270), '00d0937018331': (271.0, 271), '00d0103738916': (272.0, 272), '00d0318453525': (273.0, 273), '00d0382500008': (274.0, 274), '00d0981274700': (275.0, 275), '00d0452553939': (276.0, 276), '00d0395061839': (277.0, 277), '00d0353042107': (278.0, 278), '00d0841330621': (279.0, 279), '00d0652046562': (280.0, 280), '00d0820736669': (281.0, 281), '00d0935702550': (282.0, 282), '00d0388919382': (283.0, 283), '00d0294263018': (284.0, 284), '00d0742987288': (285.0, 285), '00d0910676977': (286.0, 286), '00d0571602960': (287.0, 287), '00d0645069761': (288.0, 288), '00d0958758313': (289.0, 289), '00d0747284670': (290.0, 290), '00d0711624382': (291.0, 291), '00d0989858817': (292.0, 292), '00d0770154989': (293.0, 293), '00d0240488407': (294.0, 294), '00d0542653551': (295.0, 295), '00d0314913072': (296.0, 296), '00d0608126101': (297.0, 297), '00d0307106203': (298.0, 298), '00d0108922007': (209.0, 299), '00d0774260218': (300.0, 300), '00d0560446704': (301.0, 301), '00d0513207673': (302.0, 302), '00d0805870344': (167.0, 303), '00d0734493835': (304.0, 304), '00d0752976763': (305.0, 305), '00d0390492165': (306.0, 306), '00d0313212291': (307.0, 307), '00d0464021737': (308.0, 308), '00d0379996414': (309.0, 309), '00d0677299556': (310.0, 310), '00d0735262766': (311.0, 311), '00d0649375713': (312.0, 312), '00d0259552507': (129.0, 313), '00d0551541808': (314.0, 314), '00d0178827407': (315.0, 315), '00d0810901932': (316.0, 316), '00d0189067460': (317.0, 317), '00d0928411057': (318.0, 318), '00d0921867955': (294.0, 319), '00d0394931168': (320.0, 320), '00d0665595833': (321.0, 321), '00d0647759775': (322.0, 322), '00d0437873955': (323.0, 323), '00d0743614936': (324.0, 324), '00d0241023069': (325.0, 325), '00d0997573916': (326.0, 326), '00d0982931302': (145.0, 327), '00d0635477367': (328.0, 328), '00d0944630849': (329.0, 329), '00d0863890590': (330.0, 330), '00d0407044350': (331.0, 331), '00d0572439292': (332.0, 332), '00d0369571763': (311.0, 333), '00d0801912850': (334.0, 334), '00d0504725741': (335.0, 335), '00d0243046961': (336.0, 336), '00d0992954979': (337.0, 337), '00d0632354255': (338.0, 338), '00d0890929577': (339.0, 339), '00d0685059326': (340.0, 340), '00d0326687304': (341.0, 341), '00d0831136284': (342.0, 342), '00d0489061247': (343.0, 343), '00d0377951457': (344.0, 344), '00d0123031653': (345.0, 345), '00d0790157720': (346.0, 346), '00d0744539202': (347.0, 347), '00d0854345015': (348.0, 348), '00d0500564944': (7.0, 349), '00d0764855917': (204.0, 350), '00d0180967427': (351.0, 351), '00d0585896483': (352.0, 352), '00d0185599105': (353.0, 353), '00d0443910003': (354.0, 354), '00d0453904564': (355.0, 355), '00d0952509602': (356.0, 356), '00d0319760858': (357.0, 357), '00d0255697730': (358.0, 358), '00d0603631647': (359.0, 359), '00d0827595193': (360.0, 360), '00d0694169739': (361.0, 361), '00d0976342068': (362.0, 362), '00d0592371977': (363.0, 363), '00d0483826961': (364.0, 364), '00d0139642641': (365.0, 365), '00d0238897436': (366.0, 366), '00d0334664099': (367.0, 367), '00d0752144290': (368.0, 368), '00d0608566104': (245.0, 369), '00d0198786728': (370.0, 370), '00d0490682838': (371.0, 371), '00d0892499515': (372.0, 372), '00d0758726468': (373.0, 373), '00d0495694280': (374.0, 374), '00d0627668053': (375.0, 375), '00d0235890341': (376.0, 376), '00d0976572552': (377.0, 377), '00d0770792669': (378.0, 378), '00d0724139826': (379.0, 379), '00d0165073570': (380.0, 380), '00d0922342206': (381.0, 381), '00d0408489357': (382.0, 382), '00d0969391958': (383.0, 383), '00d0945445352': (384.0, 384), '00d0675769257': (385.0, 385), '00d0353443719': (386.0, 386), '00d0981184214': (387.0, 387), '00d0696021247': (388.0, 388), '00d0263805728': (389.0, 389), '00d0602427476': (390.0, 390), '00d0206414354': (480.0, 391), '00d0723945064': (392.0, 392), '00d0749657219': (393.0, 393), '00d0416161702': (394.0, 394), '00d0471481845': (395.0, 395), '00d0951021760': (396.0, 396), '00d0569507667': (397.0, 397), '00d0763327632': (398.0, 398), '00d0346543074': (399.0, 399), '00d0686397126': (400.0, 400), '00d0388190762': (401.0, 401), '00d0628164309': (402.0, 402), '00d0835959293': (403.0, 403), '00d0928366034': (404.0, 404), '00d0750315464': (405.0, 405), '00d0595804986': (406.0, 406), '00d0599423844': (407.0, 407), '00d0957822503': (408.0, 408), '00d0784103375': (409.0, 409), '00d0831212127': (410.0, 410), '00d0191077139': (456.0, 411), '00d0201817639': (284.0, 412), '00d0776331594': (413.0, 413), '00d0734092781': (97.0, 414), '00d0986033233': (415.0, 415), '00d0950629356': (416.0, 416), '00d0259127407': (417.0, 417), '00d0606455264': (418.0, 418), '00d0639354292': (213.0, 419), '00d0607552804': (420.0, 420), '00d0930697230': (421.0, 421), '00d0426803895': (422.0, 422), '00d0638988191': (423.0, 423), '00d0121880972': (424.0, 424), '00d0664097059': (425.0, 425), '00d0377572170': (426.0, 426), '00d0182384739': (427.0, 427), '00d0953772440': (428.0, 428), '00d0534693438': (409.0, 429), '00d0964499840': (430.0, 430), '00d0904741091': (431.0, 431), '00d0674219107': (432.0, 432), '00d0362311019': (433.0, 433), '00d0760304510': (434.0, 434), '00d0588374381': (435.0, 435), '00d0911267818': (436.0, 436), '00d0411132243': (437.0, 437), '00d0913770897': (438.0, 438), '00d0308915412': (439.0, 439), '00d0419719085': (440.0, 440), '00d0948775947': (441.0, 441), '00d0564198512': (442.0, 442), '00d0194796076': (443.0, 443), '00d0448828100': (444.0, 444), '00d0599930970': (445.0, 445), '00d0876837917': (446.0, 446), '00d0650437495': (447.0, 447), '00d0338048914': (448.0, 448), '00d0626463001': (213.0, 449), '00d0389135415': (450.0, 450), '00d0886341707': (451.0, 451), '00d0435587221': (452.0, 452), '00d0422368687': (453.0, 453), '00d0920899195': (454.0, 454), '00d0450998902': (455.0, 455), '00d0530724847': (456.0, 456), '00d0935614053': (457.0, 457), '00d0787822677': (458.0, 458), '00d0885837043': (459.0, 459), '00d0726102139': (145.0, 460), '00d0177909385': (62.0, 461), '00d0764796072': (462.0, 462), '00d0242366463': (463.0, 463), '00d0844880238': (464.0, 464), '00d0439076290': (465.0, 465), '00d0171220341': (466.0, 466), '00d0827574327': (467.0, 467), '00d0159988592': (9.0, 468), '00d0432757654': (469.0, 469), '00d0338418904': (470.0, 470), '00d0692025607': (471.0, 471), '00d0366175414': (472.0, 472), '00d0289417092': (293.0, 473), '00d0116788763': (474.0, 474), '00d0553233477': (475.0, 475), '00d0366117594': (476.0, 476), '00d0968376605': (477.0, 477), '00d0159517738': (478.0, 478), '00d0884773399': (213.0, 479), '00d0930689679': (480.0, 480), '00d0815885891': (481.0, 481), '00d0963161084': (482.0, 482), '00d0817657245': (483.0, 483), '00d0818597221': (484.0, 484), '00d0400234172': (485.0, 485), '00d0186887844': (280.0, 486), '00d0797433528': (487.0, 487), '00d0976607312': (488.0, 488), '00d0849102191': (489.0, 489), '00d0892818805': (235.0, 490), '00d0555910882': (491.0, 491), '00d0343987945': (492.0, 492), '00d0453489586': (493.0, 493), '00d0223498663': (494.0, 494), '00d0206227401': (495.0, 495), '00d0898930568': (496.0, 496), '00d0397644256': (497.0, 497), '00d0692152542': (498.0, 498)})\n"
          ]
        },
        {
          "output_type": "stream",
          "name": "stderr",
          "text": [
            "\n"
          ]
        }
      ]
    },
    {
      "cell_type": "markdown",
      "source": [
        "## Performance on test set"
      ],
      "metadata": {
        "id": "NUTGh9mdIgmB"
      }
    },
    {
      "cell_type": "code",
      "source": [
        "import numpy as np\n",
        "from tqdm import tqdm\n",
        "import warnings\n",
        "warnings.filterwarnings('ignore')\n",
        "\n",
        "user_rows = pd.read_csv('/content/drive/MyDrive/Datathon/test_transactions.csv')\n",
        "filestem = \"/content/drive/MyDrive/Datathon/ocr-20230128T024910Z-001/ocr/\"\n",
        "ordered_documentid_array = np.array(user_rows[\"documentid\"])\n",
        "correct_predicted_array = np.arange(0, 126, 1)\n",
        "\n",
        "def predict(pred_func, correct_predicted_array, all_ocr):\n",
        "    predicted_array = np.zeros(correct_predicted_array.size)\n",
        "    for idx in tqdm(range(ordered_documentid_array.size)):\n",
        "        predicted_array[idx] = pred_func(ordered_documentid_array[idx], all_ocr)\n",
        "\n",
        "    num_correct_choices = (predicted_array == correct_predicted_array).sum()\n",
        "    assert (predicted_array.size == correct_predicted_array.size)\n",
        "    print(num_correct_choices)\n",
        "    print(\"Accuracy of the given model is {0} \".format(num_correct_choices / predicted_array.size))\n",
        "    result = {ordered_documentid_array[i]: (predicted_array[i], correct_predicted_array[i]) for i in range(len(ordered_documentid_array))}\n",
        "    return num_correct_choices / predicted_array.size, result\n",
        "\n",
        "print(predict(myAlgo2, correct_predicted_array, test_ocr))"
      ],
      "metadata": {
        "colab": {
          "base_uri": "https://localhost:8080/",
          "height": 0
        },
        "outputId": "48ecb7c8-8bba-401d-f13d-83efb20d1e47",
        "id": "Pjn8XjpVIgmB"
      },
      "execution_count": 253,
      "outputs": [
        {
          "output_type": "stream",
          "name": "stderr",
          "text": [
            "100%|██████████| 126/126 [00:08<00:00, 14.04it/s]"
          ]
        },
        {
          "output_type": "stream",
          "name": "stdout",
          "text": [
            "120\n",
            "Accuracy of the given model is 0.9523809523809523 \n",
            "(0.9523809523809523, {'00d0472780579': (0.0, 0), '00d0269258457': (31.0, 1), '00d0145054354': (2.0, 2), '00d0795468800': (3.0, 3), '00d0682248746': (4.0, 4), '00d0471112949': (5.0, 5), '00d0472591457': (6.0, 6), '00d0354593861': (7.0, 7), '00d0179226173': (8.0, 8), '00d0277307035': (9.0, 9), '00d0902256238': (10.0, 10), '00d0230547657': (11.0, 11), '00d0859401532': (12.0, 12), '00d0343958098': (13.0, 13), '00d0676711962': (14.0, 14), '00d0114666542': (35.0, 15), '00d0507143553': (16.0, 16), '00d0622420051': (17.0, 17), '00d0831446713': (18.0, 18), '00d0472127340': (19.0, 19), '00d0164203891': (20.0, 20), '00d0343123955': (21.0, 21), '00d0714317145': (22.0, 22), '00d0443302756': (23.0, 23), '00d0484705589': (24.0, 24), '00d0415751725': (25.0, 25), '00d0726056883': (18.0, 26), '00d0916006350': (27.0, 27), '00d0660852423': (28.0, 28), '00d0811301203': (29.0, 29), '00d0741622526': (30.0, 30), '00d0204688228': (31.0, 31), '00d0115214912': (32.0, 32), '00d0508747957': (33.0, 33), '00d0547495073': (34.0, 34), '00d0504003816': (106.0, 35), '00d0870184164': (36.0, 36), '00d0128862298': (37.0, 37), '00d0658523473': (38.0, 38), '00d0537233731': (39.0, 39), '00d0384888865': (40.0, 40), '00d0564199588': (41.0, 41), '00d0207352920': (42.0, 42), '00d0121860229': (43.0, 43), '00d0729993616': (44.0, 44), '00d0950145735': (45.0, 45), '00d0777749051': (46.0, 46), '00d0802473715': (47.0, 47), '00d0261309649': (48.0, 48), '00d0178057064': (49.0, 49), '00d0583684114': (50.0, 50), '00d0403823907': (51.0, 51), '00d0695919511': (52.0, 52), '00d0374072400': (53.0, 53), '00d0689877704': (54.0, 54), '00d0184132278': (55.0, 55), '00d0547632877': (56.0, 56), '00d0290184065': (57.0, 57), '00d0552375573': (58.0, 58), '00d0539072705': (59.0, 59), '00d0556108338': (60.0, 60), '00d0487139957': (61.0, 61), '00d0716702145': (62.0, 62), '00d0720874250': (81.0, 63), '00d0102367243': (64.0, 64), '00d0634485458': (65.0, 65), '00d0531848355': (66.0, 66), '00d0576905492': (67.0, 67), '00d0245826221': (68.0, 68), '00d0139330423': (69.0, 69), '00d0215894408': (70.0, 70), '00d0741384754': (71.0, 71), '00d0702366697': (72.0, 72), '00d0385248621': (73.0, 73), '00d0772671396': (74.0, 74), '00d0910776987': (75.0, 75), '00d0435331752': (76.0, 76), '00d0864913249': (77.0, 77), '00d0745818528': (78.0, 78), '00d0910574175': (79.0, 79), '00d0383639350': (80.0, 80), '00d0992302099': (81.0, 81), '00d0178282813': (82.0, 82), '00d0999799045': (83.0, 83), '00d0815578182': (84.0, 84), '00d0788646334': (85.0, 85), '00d0338271694': (86.0, 86), '00d0702501060': (87.0, 87), '00d0632172733': (88.0, 88), '00d0828995688': (89.0, 89), '00d0763228450': (90.0, 90), '00d0898762404': (91.0, 91), '00d0550391706': (92.0, 92), '00d0751097262': (93.0, 93), '00d0991234867': (94.0, 94), '00d0999793595': (95.0, 95), '00d0924594862': (96.0, 96), '00d0979473699': (97.0, 97), '00d0862918541': (98.0, 98), '00d0654632791': (99.0, 99), '00d0402998841': (100.0, 100), '00d0832645976': (101.0, 101), '00d0840498429': (102.0, 102), '00d0809037791': (103.0, 103), '00d0667274990': (104.0, 104), '00d0405749415': (105.0, 105), '00d0293069545': (106.0, 106), '00d0340785534': (107.0, 107), '00d0152915085': (108.0, 108), '00d0817761748': (109.0, 109), '00d0212306806': (110.0, 110), '00d0818342590': (111.0, 111), '00d0147748424': (112.0, 112), '00d0530594360': (26.0, 113), '00d0944155034': (114.0, 114), '00d0600715913': (115.0, 115), '00d0223598140': (116.0, 116), '00d0142736377': (117.0, 117), '00d0411843053': (118.0, 118), '00d0220981260': (119.0, 119), '00d0923796657': (120.0, 120), '00d0413686396': (121.0, 121), '00d0745331693': (122.0, 122), '00d0978814485': (123.0, 123), '00d0902251681': (124.0, 124), '00d0715617779': (125.0, 125)})\n"
          ]
        },
        {
          "output_type": "stream",
          "name": "stderr",
          "text": [
            "\n"
          ]
        }
      ]
    },
    {
      "cell_type": "markdown",
      "source": [
        "## Algorithm 3 XGBoost Classifier\n",
        "\n",
        "Use XGboost classifier (a gradient boosted ensemble method) to predict a probability of having a match between the given ocr text and the row in transaction data. Pick the row with highest probability as prediction result."
      ],
      "metadata": {
        "id": "4yNDx7msJqfl"
      }
    },
    {
      "cell_type": "code",
      "source": [
        "def voteAlgo3(user_rows, ocr_text):\n",
        "    all_scores = []\n",
        "    datetimelist = list_potential_date(ocr_text)\n",
        "\n",
        "    for i in range(len(user_rows)):\n",
        "        user_row = user_rows.iloc[i]\n",
        "        amount = user_row['amount']\n",
        "        date = user_row['date']\n",
        "        vendor_name = user_row['vendor_name']\n",
        "        vendor_address = user_row['vendor_address']\n",
        "        \n",
        "        amount_score = eval_amount(amount, ocr_text)\n",
        "        date_score = eval_date(date, datetimelist)\n",
        "        vendor_name_score = eval_vendname(vendor_name, ocr_text)\n",
        "        vendor_address_score = eval_address_score(vendor_address, ocr_text)\n",
        "        result = clf2.predict_proba(np.array([amount_score, vendor_name_score, vendor_address_score, date_score]).reshape(1, -1))\n",
        "        result = np.array(result)\n",
        "        total_score = result[0][1]\n",
        "        \n",
        "        all_scores.append(total_score)\n",
        "    predict_row_idx = all_scores.index(max(all_scores))\n",
        "    return predict_row_idx\n",
        "\n",
        "def myAlgo3(docID, ocrDict):\n",
        "  ocrTxt = ocrDict[docID] \n",
        "  return voteAlgo3(user_rows, ocrTxt)"
      ],
      "metadata": {
        "id": "LYZNvptkKDva"
      },
      "execution_count": 246,
      "outputs": []
    },
    {
      "cell_type": "markdown",
      "source": [
        "## Performance on validation dataset"
      ],
      "metadata": {
        "id": "-v9LoPblKDvg"
      }
    },
    {
      "cell_type": "code",
      "source": [
        "import numpy as np\n",
        "from tqdm import tqdm\n",
        "import warnings\n",
        "warnings.filterwarnings('ignore')\n",
        "\n",
        "user_rows = pd.read_csv('/content/drive/MyDrive/Datathon/Users.csv')\n",
        "filestem = \"/content/drive/MyDrive/Datathon/ocr-20230128T024910Z-001/ocr/\"\n",
        "ordered_documentid_array = np.array(user_rows[\"documentid\"])\n",
        "correct_predicted_array = np.arange(0, 499, 1)\n",
        "\n",
        "def predict(pred_func, correct_predicted_array, all_ocr):\n",
        "    predicted_array = np.zeros(correct_predicted_array.size)\n",
        "    for idx in tqdm(range(ordered_documentid_array.size)):\n",
        "        predicted_array[idx] = pred_func(ordered_documentid_array[idx], all_ocr)\n",
        "\n",
        "    num_correct_choices = (predicted_array == correct_predicted_array).sum()\n",
        "    assert (predicted_array.size == correct_predicted_array.size)\n",
        "    print(num_correct_choices)\n",
        "    print(\"Accuracy of the given model is {0} \".format(num_correct_choices / predicted_array.size))\n",
        "    result = {ordered_documentid_array[i]: (predicted_array[i], correct_predicted_array[i]) for i in range(len(ordered_documentid_array))}\n",
        "    return num_correct_choices / predicted_array.size, result\n",
        "\n",
        "print(predict(myAlgo3, correct_predicted_array, train_ocr_small))"
      ],
      "metadata": {
        "colab": {
          "base_uri": "https://localhost:8080/",
          "height": 0
        },
        "outputId": "3ec70049-770e-49de-d5d7-c99b692df10f",
        "id": "tUFhmF6XKDvg"
      },
      "execution_count": 252,
      "outputs": [
        {
          "output_type": "stream",
          "name": "stderr",
          "text": [
            "100%|██████████| 499/499 [01:53<00:00,  4.38it/s]"
          ]
        },
        {
          "output_type": "stream",
          "name": "stdout",
          "text": [
            "457\n",
            "Accuracy of the given model is 0.9158316633266533 \n",
            "(0.9158316633266533, {'00d0624439175': (120.0, 0), '00d0654270874': (1.0, 1), '00d0403711886': (2.0, 2), '00d0956164753': (3.0, 3), '00d0667839698': (234.0, 4), '00d0841246769': (5.0, 5), '00d0414196980': (6.0, 6), '00d0726523245': (7.0, 7), '00d0320587587': (8.0, 8), '00d0333208815': (9.0, 9), '00d0330533884': (10.0, 10), '00d0694627982': (11.0, 11), '00d0408017404': (12.0, 12), '00d0447521528': (13.0, 13), '00d0194076657': (40.0, 14), '00d0546591203': (15.0, 15), '00d0116292534': (16.0, 16), '00d0796308197': (17.0, 17), '00d0992127574': (18.0, 18), '00d0961798581': (19.0, 19), '00d0267909555': (20.0, 20), '00d0973462000': (21.0, 21), '00d0280864237': (22.0, 22), '00d0697219524': (23.0, 23), '00d0145695018': (24.0, 24), '00d0330285744': (25.0, 25), '00d0477960526': (26.0, 26), '00d0955195431': (27.0, 27), '00d0167381962': (28.0, 28), '00d0614628355': (29.0, 29), '00d0761346037': (30.0, 30), '00d0502129574': (31.0, 31), '00d0686078737': (32.0, 32), '00d0674212079': (33.0, 33), '00d0989196649': (34.0, 34), '00d0797361085': (35.0, 35), '00d0592118004': (36.0, 36), '00d0130065999': (37.0, 37), '00d0781074499': (38.0, 38), '00d0682329345': (39.0, 39), '00d0523654121': (40.0, 40), '00d0458708415': (41.0, 41), '00d0868680143': (42.0, 42), '00d0270398034': (43.0, 43), '00d0827589883': (392.0, 44), '00d0757440459': (45.0, 45), '00d0821795963': (46.0, 46), '00d0234070159': (47.0, 47), '00d0355426817': (48.0, 48), '00d0529128132': (49.0, 49), '00d0533588228': (50.0, 50), '00d0749666123': (51.0, 51), '00d0630325043': (52.0, 52), '00d0266020596': (53.0, 53), '00d0975647950': (54.0, 54), '00d0484942812': (55.0, 55), '00d0708429922': (383.0, 56), '00d0543406251': (57.0, 57), '00d0363399593': (58.0, 58), '00d0920231897': (63.0, 59), '00d0855903342': (64.0, 60), '00d0196808024': (61.0, 61), '00d0212522180': (62.0, 62), '00d0282395578': (63.0, 63), '00d0668346631': (64.0, 64), '00d0806991732': (176.0, 65), '00d0648982621': (66.0, 66), '00d0530467663': (67.0, 67), '00d0449236994': (68.0, 68), '00d0288011947': (69.0, 69), '00d0837897960': (70.0, 70), '00d0266548523': (71.0, 71), '00d0114026522': (72.0, 72), '00d0945045450': (73.0, 73), '00d0158328888': (74.0, 74), '00d0388872730': (75.0, 75), '00d0760612254': (76.0, 76), '00d0975647472': (77.0, 77), '00d0678943517': (78.0, 78), '00d0749169797': (79.0, 79), '00d0202261292': (80.0, 80), '00d0582681704': (81.0, 81), '00d0911031443': (82.0, 82), '00d0685723809': (83.0, 83), '00d0891802782': (84.0, 84), '00d0887482293': (85.0, 85), '00d0202365816': (86.0, 86), '00d0485758378': (87.0, 87), '00d0384870576': (88.0, 88), '00d0237756126': (89.0, 89), '00d0737345187': (90.0, 90), '00d0782503250': (91.0, 91), '00d0396057665': (92.0, 92), '00d0785646736': (6.0, 93), '00d0354051709': (94.0, 94), '00d0929882897': (383.0, 95), '00d0511840834': (96.0, 96), '00d0627357411': (97.0, 97), '00d0192025858': (383.0, 98), '00d0889453684': (99.0, 99), '00d0358154075': (100.0, 100), '00d0871332887': (101.0, 101), '00d0799986048': (102.0, 102), '00d0233173701': (103.0, 103), '00d0201833623': (104.0, 104), '00d0477553790': (105.0, 105), '00d0532350198': (106.0, 106), '00d0196984382': (107.0, 107), '00d0568013096': (108.0, 108), '00d0416368925': (109.0, 109), '00d0119878906': (110.0, 110), '00d0721665358': (111.0, 111), '00d0225816395': (112.0, 112), '00d0164592408': (113.0, 113), '00d0375035482': (114.0, 114), '00d0973066652': (115.0, 115), '00d0558270937': (116.0, 116), '00d0400479663': (117.0, 117), '00d0676485252': (118.0, 118), '00d0948483091': (119.0, 119), '00d0876488640': (120.0, 120), '00d0879733105': (121.0, 121), '00d0705950948': (122.0, 122), '00d0641642649': (123.0, 123), '00d0449498451': (124.0, 124), '00d0627737900': (125.0, 125), '00d0453226524': (126.0, 126), '00d0218523505': (127.0, 127), '00d0258506946': (128.0, 128), '00d0717257644': (129.0, 129), '00d0316894686': (130.0, 130), '00d0401609886': (131.0, 131), '00d0774018859': (132.0, 132), '00d0183401385': (133.0, 133), '00d0270792056': (134.0, 134), '00d0497274391': (135.0, 135), '00d0773577731': (136.0, 136), '00d0844818369': (137.0, 137), '00d0390662905': (138.0, 138), '00d0271842165': (139.0, 139), '00d0601744334': (140.0, 140), '00d0834036599': (141.0, 141), '00d0617357249': (142.0, 142), '00d0328708236': (143.0, 143), '00d0286887687': (144.0, 144), '00d0776440475': (145.0, 145), '00d0881334709': (146.0, 146), '00d0485821436': (147.0, 147), '00d0570374781': (148.0, 148), '00d0967073777': (149.0, 149), '00d0527382713': (87.0, 150), '00d0463604996': (151.0, 151), '00d0737981299': (152.0, 152), '00d0680000515': (383.0, 153), '00d0680178711': (154.0, 154), '00d0992959314': (155.0, 155), '00d0106074517': (156.0, 156), '00d0901837324': (157.0, 157), '00d0471591245': (158.0, 158), '00d0668503128': (159.0, 159), '00d0281320276': (160.0, 160), '00d0307768744': (161.0, 161), '00d0393260166': (162.0, 162), '00d0724729985': (163.0, 163), '00d0457456115': (164.0, 164), '00d0987973134': (165.0, 165), '00d0394257241': (166.0, 166), '00d0864219792': (167.0, 167), '00d0474678678': (168.0, 168), '00d0396141876': (169.0, 169), '00d0778866561': (170.0, 170), '00d0708763656': (171.0, 171), '00d0510871247': (172.0, 172), '00d0828214133': (173.0, 173), '00d0339705365': (174.0, 174), '00d0242626168': (175.0, 175), '00d0842605090': (176.0, 176), '00d0552638268': (177.0, 177), '00d0250566763': (178.0, 178), '00d0338548353': (179.0, 179), '00d0118393124': (180.0, 180), '00d0272306272': (63.0, 181), '00d0710387537': (182.0, 182), '00d0150882989': (183.0, 183), '00d0207985673': (184.0, 184), '00d0500910371': (185.0, 185), '00d0921271701': (186.0, 186), '00d0757215171': (187.0, 187), '00d0977582300': (188.0, 188), '00d0363991072': (189.0, 189), '00d0423671916': (190.0, 190), '00d0166687964': (191.0, 191), '00d0733466225': (192.0, 192), '00d0916574976': (193.0, 193), '00d0459172796': (194.0, 194), '00d0849221655': (195.0, 195), '00d0464742744': (196.0, 196), '00d0845867211': (197.0, 197), '00d0320901819': (198.0, 198), '00d0972867846': (199.0, 199), '00d0738014969': (200.0, 200), '00d0877220068': (201.0, 201), '00d0485748096': (202.0, 202), '00d0768446621': (203.0, 203), '00d0837787542': (204.0, 204), '00d0965540723': (205.0, 205), '00d0880901672': (206.0, 206), '00d0201738305': (207.0, 207), '00d0194569644': (13.0, 208), '00d0328806229': (299.0, 209), '00d0859698635': (210.0, 210), '00d0577470816': (211.0, 211), '00d0784934925': (212.0, 212), '00d0954032591': (213.0, 213), '00d0594663786': (214.0, 214), '00d0542888628': (215.0, 215), '00d0308106888': (216.0, 216), '00d0980207211': (217.0, 217), '00d0166829801': (218.0, 218), '00d0543055869': (219.0, 219), '00d0347606159': (220.0, 220), '00d0100894168': (221.0, 221), '00d0292723088': (222.0, 222), '00d0793133421': (223.0, 223), '00d0661661607': (176.0, 224), '00d0206117546': (365.0, 225), '00d0904732199': (226.0, 226), '00d0682202857': (227.0, 227), '00d0914854329': (213.0, 228), '00d0174270341': (229.0, 229), '00d0698784211': (230.0, 230), '00d0574862056': (231.0, 231), '00d0722335566': (232.0, 232), '00d0372099873': (233.0, 233), '00d0696518680': (234.0, 234), '00d0282138675': (235.0, 235), '00d0581923422': (236.0, 236), '00d0188523936': (237.0, 237), '00d0147095939': (238.0, 238), '00d0209546609': (239.0, 239), '00d0124895452': (240.0, 240), '00d0843646516': (241.0, 241), '00d0826414442': (345.0, 242), '00d0942116852': (243.0, 243), '00d0417300467': (244.0, 244), '00d0803190070': (245.0, 245), '00d0610473999': (246.0, 246), '00d0106280922': (247.0, 247), '00d0243521534': (248.0, 248), '00d0675832982': (249.0, 249), '00d0272031259': (250.0, 250), '00d0606540603': (251.0, 251), '00d0876844472': (252.0, 252), '00d0859215539': (253.0, 253), '00d0616798510': (254.0, 254), '00d0834688755': (255.0, 255), '00d0970540567': (213.0, 256), '00d0472913563': (257.0, 257), '00d0541369548': (258.0, 258), '00d0542157895': (259.0, 259), '00d0840814576': (260.0, 260), '00d0524794165': (261.0, 261), '00d0163078697': (262.0, 262), '00d0702637244': (263.0, 263), '00d0757881141': (264.0, 264), '00d0271405634': (265.0, 265), '00d0582732557': (266.0, 266), '00d0619690945': (267.0, 267), '00d0174068255': (268.0, 268), '00d0678037496': (269.0, 269), '00d0365513088': (270.0, 270), '00d0937018331': (271.0, 271), '00d0103738916': (272.0, 272), '00d0318453525': (273.0, 273), '00d0382500008': (274.0, 274), '00d0981274700': (275.0, 275), '00d0452553939': (276.0, 276), '00d0395061839': (277.0, 277), '00d0353042107': (278.0, 278), '00d0841330621': (279.0, 279), '00d0652046562': (280.0, 280), '00d0820736669': (281.0, 281), '00d0935702550': (282.0, 282), '00d0388919382': (283.0, 283), '00d0294263018': (284.0, 284), '00d0742987288': (285.0, 285), '00d0910676977': (286.0, 286), '00d0571602960': (287.0, 287), '00d0645069761': (288.0, 288), '00d0958758313': (289.0, 289), '00d0747284670': (290.0, 290), '00d0711624382': (291.0, 291), '00d0989858817': (292.0, 292), '00d0770154989': (293.0, 293), '00d0240488407': (294.0, 294), '00d0542653551': (295.0, 295), '00d0314913072': (296.0, 296), '00d0608126101': (297.0, 297), '00d0307106203': (298.0, 298), '00d0108922007': (399.0, 299), '00d0774260218': (300.0, 300), '00d0560446704': (301.0, 301), '00d0513207673': (302.0, 302), '00d0805870344': (167.0, 303), '00d0734493835': (304.0, 304), '00d0752976763': (305.0, 305), '00d0390492165': (306.0, 306), '00d0313212291': (307.0, 307), '00d0464021737': (308.0, 308), '00d0379996414': (309.0, 309), '00d0677299556': (310.0, 310), '00d0735262766': (311.0, 311), '00d0649375713': (312.0, 312), '00d0259552507': (129.0, 313), '00d0551541808': (314.0, 314), '00d0178827407': (315.0, 315), '00d0810901932': (316.0, 316), '00d0189067460': (317.0, 317), '00d0928411057': (318.0, 318), '00d0921867955': (294.0, 319), '00d0394931168': (320.0, 320), '00d0665595833': (321.0, 321), '00d0647759775': (322.0, 322), '00d0437873955': (323.0, 323), '00d0743614936': (324.0, 324), '00d0241023069': (325.0, 325), '00d0997573916': (326.0, 326), '00d0982931302': (63.0, 327), '00d0635477367': (328.0, 328), '00d0944630849': (329.0, 329), '00d0863890590': (330.0, 330), '00d0407044350': (331.0, 331), '00d0572439292': (332.0, 332), '00d0369571763': (192.0, 333), '00d0801912850': (334.0, 334), '00d0504725741': (335.0, 335), '00d0243046961': (336.0, 336), '00d0992954979': (337.0, 337), '00d0632354255': (338.0, 338), '00d0890929577': (339.0, 339), '00d0685059326': (340.0, 340), '00d0326687304': (341.0, 341), '00d0831136284': (342.0, 342), '00d0489061247': (343.0, 343), '00d0377951457': (344.0, 344), '00d0123031653': (345.0, 345), '00d0790157720': (346.0, 346), '00d0744539202': (347.0, 347), '00d0854345015': (348.0, 348), '00d0500564944': (7.0, 349), '00d0764855917': (204.0, 350), '00d0180967427': (351.0, 351), '00d0585896483': (352.0, 352), '00d0185599105': (353.0, 353), '00d0443910003': (354.0, 354), '00d0453904564': (355.0, 355), '00d0952509602': (356.0, 356), '00d0319760858': (357.0, 357), '00d0255697730': (358.0, 358), '00d0603631647': (359.0, 359), '00d0827595193': (360.0, 360), '00d0694169739': (361.0, 361), '00d0976342068': (362.0, 362), '00d0592371977': (363.0, 363), '00d0483826961': (364.0, 364), '00d0139642641': (365.0, 365), '00d0238897436': (366.0, 366), '00d0334664099': (367.0, 367), '00d0752144290': (368.0, 368), '00d0608566104': (245.0, 369), '00d0198786728': (370.0, 370), '00d0490682838': (371.0, 371), '00d0892499515': (372.0, 372), '00d0758726468': (373.0, 373), '00d0495694280': (374.0, 374), '00d0627668053': (375.0, 375), '00d0235890341': (376.0, 376), '00d0976572552': (377.0, 377), '00d0770792669': (378.0, 378), '00d0724139826': (379.0, 379), '00d0165073570': (380.0, 380), '00d0922342206': (381.0, 381), '00d0408489357': (382.0, 382), '00d0969391958': (383.0, 383), '00d0945445352': (384.0, 384), '00d0675769257': (385.0, 385), '00d0353443719': (386.0, 386), '00d0981184214': (387.0, 387), '00d0696021247': (388.0, 388), '00d0263805728': (389.0, 389), '00d0602427476': (390.0, 390), '00d0206414354': (480.0, 391), '00d0723945064': (392.0, 392), '00d0749657219': (393.0, 393), '00d0416161702': (394.0, 394), '00d0471481845': (395.0, 395), '00d0951021760': (396.0, 396), '00d0569507667': (397.0, 397), '00d0763327632': (398.0, 398), '00d0346543074': (399.0, 399), '00d0686397126': (400.0, 400), '00d0388190762': (401.0, 401), '00d0628164309': (402.0, 402), '00d0835959293': (403.0, 403), '00d0928366034': (404.0, 404), '00d0750315464': (405.0, 405), '00d0595804986': (406.0, 406), '00d0599423844': (407.0, 407), '00d0957822503': (408.0, 408), '00d0784103375': (409.0, 409), '00d0831212127': (410.0, 410), '00d0191077139': (456.0, 411), '00d0201817639': (284.0, 412), '00d0776331594': (275.0, 413), '00d0734092781': (97.0, 414), '00d0986033233': (415.0, 415), '00d0950629356': (416.0, 416), '00d0259127407': (417.0, 417), '00d0606455264': (418.0, 418), '00d0639354292': (419.0, 419), '00d0607552804': (420.0, 420), '00d0930697230': (421.0, 421), '00d0426803895': (422.0, 422), '00d0638988191': (423.0, 423), '00d0121880972': (424.0, 424), '00d0664097059': (425.0, 425), '00d0377572170': (426.0, 426), '00d0182384739': (427.0, 427), '00d0953772440': (428.0, 428), '00d0534693438': (429.0, 429), '00d0964499840': (430.0, 430), '00d0904741091': (431.0, 431), '00d0674219107': (432.0, 432), '00d0362311019': (433.0, 433), '00d0760304510': (434.0, 434), '00d0588374381': (435.0, 435), '00d0911267818': (436.0, 436), '00d0411132243': (437.0, 437), '00d0913770897': (438.0, 438), '00d0308915412': (439.0, 439), '00d0419719085': (440.0, 440), '00d0948775947': (441.0, 441), '00d0564198512': (442.0, 442), '00d0194796076': (443.0, 443), '00d0448828100': (444.0, 444), '00d0599930970': (445.0, 445), '00d0876837917': (446.0, 446), '00d0650437495': (447.0, 447), '00d0338048914': (448.0, 448), '00d0626463001': (449.0, 449), '00d0389135415': (450.0, 450), '00d0886341707': (451.0, 451), '00d0435587221': (452.0, 452), '00d0422368687': (453.0, 453), '00d0920899195': (454.0, 454), '00d0450998902': (455.0, 455), '00d0530724847': (456.0, 456), '00d0935614053': (457.0, 457), '00d0787822677': (458.0, 458), '00d0885837043': (459.0, 459), '00d0726102139': (61.0, 460), '00d0177909385': (62.0, 461), '00d0764796072': (462.0, 462), '00d0242366463': (463.0, 463), '00d0844880238': (464.0, 464), '00d0439076290': (465.0, 465), '00d0171220341': (466.0, 466), '00d0827574327': (467.0, 467), '00d0159988592': (116.0, 468), '00d0432757654': (469.0, 469), '00d0338418904': (470.0, 470), '00d0692025607': (471.0, 471), '00d0366175414': (472.0, 472), '00d0289417092': (293.0, 473), '00d0116788763': (474.0, 474), '00d0553233477': (475.0, 475), '00d0366117594': (476.0, 476), '00d0968376605': (477.0, 477), '00d0159517738': (478.0, 478), '00d0884773399': (213.0, 479), '00d0930689679': (480.0, 480), '00d0815885891': (481.0, 481), '00d0963161084': (482.0, 482), '00d0817657245': (483.0, 483), '00d0818597221': (484.0, 484), '00d0400234172': (485.0, 485), '00d0186887844': (280.0, 486), '00d0797433528': (487.0, 487), '00d0976607312': (488.0, 488), '00d0849102191': (489.0, 489), '00d0892818805': (359.0, 490), '00d0555910882': (491.0, 491), '00d0343987945': (492.0, 492), '00d0453489586': (493.0, 493), '00d0223498663': (494.0, 494), '00d0206227401': (495.0, 495), '00d0898930568': (496.0, 496), '00d0397644256': (497.0, 497), '00d0692152542': (498.0, 498)})\n"
          ]
        },
        {
          "output_type": "stream",
          "name": "stderr",
          "text": [
            "\n"
          ]
        }
      ]
    },
    {
      "cell_type": "markdown",
      "source": [
        "## Performance on test set"
      ],
      "metadata": {
        "id": "dcKrrBurKDvg"
      }
    },
    {
      "cell_type": "code",
      "source": [
        "import numpy as np\n",
        "from tqdm import tqdm\n",
        "import warnings\n",
        "warnings.filterwarnings('ignore')\n",
        "\n",
        "user_rows = pd.read_csv('/content/drive/MyDrive/Datathon/test_transactions.csv')\n",
        "filestem = \"/content/drive/MyDrive/Datathon/ocr-20230128T024910Z-001/ocr/\"\n",
        "ordered_documentid_array = np.array(user_rows[\"documentid\"])\n",
        "correct_predicted_array = np.arange(0, 126, 1)\n",
        "\n",
        "def predict(pred_func, correct_predicted_array, all_ocr):\n",
        "    predicted_array = np.zeros(correct_predicted_array.size)\n",
        "    for idx in tqdm(range(ordered_documentid_array.size)):\n",
        "        predicted_array[idx] = pred_func(ordered_documentid_array[idx], all_ocr)\n",
        "\n",
        "    num_correct_choices = (predicted_array == correct_predicted_array).sum()\n",
        "\n",
        "    assert (predicted_array.size == correct_predicted_array.size)\n",
        "    print(num_correct_choices)\n",
        "    print(\"Accuracy of the given model is {0} \".format(num_correct_choices / predicted_array.size))\n",
        "    result = {ordered_documentid_array[i]: (predicted_array[i], correct_predicted_array[i]) for i in range(len(ordered_documentid_array))}\n",
        "    return num_correct_choices / predicted_array.size, result\n",
        "\n",
        "print(predict(myAlgo3, correct_predicted_array, all_ocr))"
      ],
      "metadata": {
        "colab": {
          "base_uri": "https://localhost:8080/",
          "height": 0
        },
        "outputId": "aefd256f-0efa-4112-e048-c69ebad3483c",
        "id": "wFAN-_cPKDvg"
      },
      "execution_count": 250,
      "outputs": [
        {
          "output_type": "stream",
          "name": "stderr",
          "text": [
            "100%|██████████| 126/126 [00:09<00:00, 13.78it/s]"
          ]
        },
        {
          "output_type": "stream",
          "name": "stdout",
          "text": [
            "121\n",
            "Accuracy of the given model is 0.9603174603174603 \n",
            "(0.9603174603174603, {'00d0472780579': (0.0, 0), '00d0269258457': (102.0, 1), '00d0145054354': (2.0, 2), '00d0795468800': (3.0, 3), '00d0682248746': (4.0, 4), '00d0471112949': (5.0, 5), '00d0472591457': (6.0, 6), '00d0354593861': (7.0, 7), '00d0179226173': (8.0, 8), '00d0277307035': (9.0, 9), '00d0902256238': (10.0, 10), '00d0230547657': (11.0, 11), '00d0859401532': (12.0, 12), '00d0343958098': (13.0, 13), '00d0676711962': (14.0, 14), '00d0114666542': (35.0, 15), '00d0507143553': (16.0, 16), '00d0622420051': (17.0, 17), '00d0831446713': (18.0, 18), '00d0472127340': (19.0, 19), '00d0164203891': (20.0, 20), '00d0343123955': (21.0, 21), '00d0714317145': (22.0, 22), '00d0443302756': (23.0, 23), '00d0484705589': (24.0, 24), '00d0415751725': (25.0, 25), '00d0726056883': (33.0, 26), '00d0916006350': (27.0, 27), '00d0660852423': (28.0, 28), '00d0811301203': (29.0, 29), '00d0741622526': (30.0, 30), '00d0204688228': (31.0, 31), '00d0115214912': (32.0, 32), '00d0508747957': (33.0, 33), '00d0547495073': (34.0, 34), '00d0504003816': (106.0, 35), '00d0870184164': (36.0, 36), '00d0128862298': (37.0, 37), '00d0658523473': (38.0, 38), '00d0537233731': (39.0, 39), '00d0384888865': (40.0, 40), '00d0564199588': (41.0, 41), '00d0207352920': (42.0, 42), '00d0121860229': (43.0, 43), '00d0729993616': (44.0, 44), '00d0950145735': (45.0, 45), '00d0777749051': (46.0, 46), '00d0802473715': (47.0, 47), '00d0261309649': (48.0, 48), '00d0178057064': (49.0, 49), '00d0583684114': (50.0, 50), '00d0403823907': (51.0, 51), '00d0695919511': (52.0, 52), '00d0374072400': (53.0, 53), '00d0689877704': (54.0, 54), '00d0184132278': (55.0, 55), '00d0547632877': (56.0, 56), '00d0290184065': (57.0, 57), '00d0552375573': (58.0, 58), '00d0539072705': (59.0, 59), '00d0556108338': (60.0, 60), '00d0487139957': (61.0, 61), '00d0716702145': (62.0, 62), '00d0720874250': (81.0, 63), '00d0102367243': (64.0, 64), '00d0634485458': (65.0, 65), '00d0531848355': (66.0, 66), '00d0576905492': (67.0, 67), '00d0245826221': (68.0, 68), '00d0139330423': (69.0, 69), '00d0215894408': (70.0, 70), '00d0741384754': (71.0, 71), '00d0702366697': (72.0, 72), '00d0385248621': (73.0, 73), '00d0772671396': (74.0, 74), '00d0910776987': (75.0, 75), '00d0435331752': (76.0, 76), '00d0864913249': (77.0, 77), '00d0745818528': (78.0, 78), '00d0910574175': (79.0, 79), '00d0383639350': (80.0, 80), '00d0992302099': (81.0, 81), '00d0178282813': (82.0, 82), '00d0999799045': (83.0, 83), '00d0815578182': (84.0, 84), '00d0788646334': (85.0, 85), '00d0338271694': (86.0, 86), '00d0702501060': (87.0, 87), '00d0632172733': (88.0, 88), '00d0828995688': (89.0, 89), '00d0763228450': (90.0, 90), '00d0898762404': (91.0, 91), '00d0550391706': (92.0, 92), '00d0751097262': (93.0, 93), '00d0991234867': (94.0, 94), '00d0999793595': (95.0, 95), '00d0924594862': (96.0, 96), '00d0979473699': (97.0, 97), '00d0862918541': (98.0, 98), '00d0654632791': (99.0, 99), '00d0402998841': (100.0, 100), '00d0832645976': (101.0, 101), '00d0840498429': (102.0, 102), '00d0809037791': (103.0, 103), '00d0667274990': (104.0, 104), '00d0405749415': (105.0, 105), '00d0293069545': (106.0, 106), '00d0340785534': (107.0, 107), '00d0152915085': (108.0, 108), '00d0817761748': (109.0, 109), '00d0212306806': (110.0, 110), '00d0818342590': (111.0, 111), '00d0147748424': (112.0, 112), '00d0530594360': (113.0, 113), '00d0944155034': (114.0, 114), '00d0600715913': (115.0, 115), '00d0223598140': (116.0, 116), '00d0142736377': (117.0, 117), '00d0411843053': (118.0, 118), '00d0220981260': (119.0, 119), '00d0923796657': (120.0, 120), '00d0413686396': (121.0, 121), '00d0745331693': (122.0, 122), '00d0978814485': (123.0, 123), '00d0902251681': (124.0, 124), '00d0715617779': (125.0, 125)})\n"
          ]
        },
        {
          "output_type": "stream",
          "name": "stderr",
          "text": [
            "\n"
          ]
        }
      ]
    }
  ]
}